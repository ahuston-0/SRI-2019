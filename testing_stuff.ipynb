{
 "cells": [
  {
   "cell_type": "code",
   "execution_count": 2,
   "metadata": {
    "code_folding": []
   },
   "outputs": [],
   "source": [
    "# Import Statements\n",
    "import cv2 as cv\n",
    "import numpy as np\n",
    "from sklearn.cluster import DBSCAN\n",
    "from sklearn import metrics\n",
    "from matplotlib import pyplot as plt\n",
    "import time\n",
    "import sys\n",
    "import multiprocessing\n",
    "import os\n",
    "import rospy\n",
    "from sensor_msgs.msg import Image\n",
    "from stereo_msgs.msg import DisparityImage\n",
    "from sensor_msgs.msg import PointCloud2\n",
    "from nav_msgs.msg import OccupancyGrid as Map\n",
    "from std_msgs.msg import Int32MultiArray as Array\n",
    "from std_msgs.msg import MultiArrayDimension as Dimension\n",
    "import message_filters\n",
    "import cv_bridge\n",
    "import tf\n",
    "import math\n",
    "from std_msgs.msg import String\n",
    "import EnvMap\n",
    "import Buoy_List\n",
    "from numba import jit"
   ]
  },
  {
   "cell_type": "code",
   "execution_count": 3,
   "metadata": {
    "scrolled": true
   },
   "outputs": [
    {
     "name": "stdout",
     "output_type": "stream",
     "text": [
      "0.00946258397102356\n"
     ]
    }
   ],
   "source": [
    "zero_times = []\n",
    "for x in range(10000):\n",
    "    start_time = time.time()\n",
    "    row, col = np.indices((1000,1000))\n",
    "    # index_image = np.zeros((1000,1000,2))\n",
    "    map_img_z = np.zeros((1000,1000,2))\n",
    "    map_img_z[:,:,0] = row\n",
    "    map_img_z[:,:,1] = col\n",
    "    map_img_z = map_img_z.astype(np.int32)\n",
    "    zero_times.append(time.time()-start_time)\n",
    "print np.sum(zero_times)/10000"
   ]
  },
  {
   "cell_type": "code",
   "execution_count": 4,
   "metadata": {},
   "outputs": [
    {
     "name": "stdout",
     "output_type": "stream",
     "text": [
      "0.008255074477195739\n"
     ]
    }
   ],
   "source": [
    "stack_times = []\n",
    "for x in range(10000):\n",
    "    start_time = time.time()\n",
    "    row, col = np.indices((1000,1000))\n",
    "    index = np.vstack(([row.T], [col.T])).T\n",
    "    stack_times.append(time.time()-start_time)\n",
    "print np.sum(stack_times)/10000"
   ]
  },
  {
   "cell_type": "code",
   "execution_count": 4,
   "metadata": {},
   "outputs": [
    {
     "name": "stdout",
     "output_type": "stream",
     "text": [
      "(1000, 1000, 2)\n"
     ]
    }
   ],
   "source": [
    "start_time = time.time()\n",
    "row, col = np.indices((1000,1000))\n",
    "index = np.vstack(([row.T], [col.T])).T\n",
    "print index.shape"
   ]
  },
  {
   "cell_type": "code",
   "execution_count": 6,
   "metadata": {},
   "outputs": [
    {
     "ename": "ValueError",
     "evalue": "could not broadcast input array from shape (1000,1000) into shape (1000000)",
     "output_type": "error",
     "traceback": [
      "\u001b[0;31m----------\u001b[0m",
      "\u001b[0;31mValueError\u001b[0mTraceback (most recent call last)",
      "\u001b[0;32m<ipython-input-6-85b9baa71ed0>\u001b[0m in \u001b[0;36m<module>\u001b[0;34m()\u001b[0m\n\u001b[1;32m      2\u001b[0m \u001b[0;31m# index_image = np.zeros((1000,1000,2))\u001b[0m\u001b[0;34m\u001b[0m\u001b[0;34m\u001b[0m\u001b[0m\n\u001b[1;32m      3\u001b[0m \u001b[0mmap_img_z\u001b[0m \u001b[0;34m=\u001b[0m \u001b[0mnp\u001b[0m\u001b[0;34m.\u001b[0m\u001b[0mzeros\u001b[0m\u001b[0;34m(\u001b[0m\u001b[0;34m(\u001b[0m\u001b[0;36m1000\u001b[0m\u001b[0;34m*\u001b[0m\u001b[0;36m1000\u001b[0m\u001b[0;34m,\u001b[0m\u001b[0;36m2\u001b[0m\u001b[0;34m)\u001b[0m\u001b[0;34m)\u001b[0m\u001b[0;34m\u001b[0m\u001b[0m\n\u001b[0;32m----> 4\u001b[0;31m \u001b[0mmap_img_z\u001b[0m\u001b[0;34m[\u001b[0m\u001b[0;34m:\u001b[0m\u001b[0;34m,\u001b[0m\u001b[0;36m0\u001b[0m\u001b[0;34m]\u001b[0m \u001b[0;34m=\u001b[0m \u001b[0mrow\u001b[0m\u001b[0;34m\u001b[0m\u001b[0m\n\u001b[0m\u001b[1;32m      5\u001b[0m \u001b[0mmap_img_z\u001b[0m\u001b[0;34m[\u001b[0m\u001b[0;34m:\u001b[0m\u001b[0;34m,\u001b[0m\u001b[0;36m1\u001b[0m\u001b[0;34m]\u001b[0m \u001b[0;34m=\u001b[0m \u001b[0mcol\u001b[0m\u001b[0;34m\u001b[0m\u001b[0m\n\u001b[1;32m      6\u001b[0m \u001b[0mmap_img_z\u001b[0m \u001b[0;34m=\u001b[0m \u001b[0mmap_img_z\u001b[0m\u001b[0;34m.\u001b[0m\u001b[0mastype\u001b[0m\u001b[0;34m(\u001b[0m\u001b[0mnp\u001b[0m\u001b[0;34m.\u001b[0m\u001b[0mint32\u001b[0m\u001b[0;34m)\u001b[0m\u001b[0;34m\u001b[0m\u001b[0m\n",
      "\u001b[0;31mValueError\u001b[0m: could not broadcast input array from shape (1000,1000) into shape (1000000)"
     ]
    }
   ],
   "source": [
    "row, col = np.indices((1000,1000))\n",
    "# index_image = np.zeros((1000,1000,2))\n",
    "map_img_z = np.zeros((1000*1000,2))\n",
    "map_img_z[:,0] = row\n",
    "map_img_z[:,1] = col\n",
    "map_img_z = map_img_z.astype(np.int32)\n",
    "print map_img_z.shape"
   ]
  }
 ],
 "metadata": {
  "kernelspec": {
   "display_name": "Python 2",
   "language": "python",
   "name": "python2"
  },
  "language_info": {
   "codemirror_mode": {
    "name": "ipython",
    "version": 2
   },
   "file_extension": ".py",
   "mimetype": "text/x-python",
   "name": "python",
   "nbconvert_exporter": "python",
   "pygments_lexer": "ipython2",
   "version": "2.7.12"
  }
 },
 "nbformat": 4,
 "nbformat_minor": 2
}
