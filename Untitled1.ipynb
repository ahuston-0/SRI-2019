{
 "cells": [
  {
   "cell_type": "code",
   "execution_count": 1,
   "metadata": {},
   "outputs": [],
   "source": [
    "import numpy as np\n",
    "import time\n",
    "import sys\n",
    "np.set_printoptions(threshold=sys.maxsize)"
   ]
  },
  {
   "cell_type": "code",
   "execution_count": 2,
   "metadata": {},
   "outputs": [],
   "source": [
    "def insidetriangle((x1,x2,x3),(y1,y2,y3)):\n",
    "    \n",
    "    xs=np.array((x1,x2,x3),dtype=float)\n",
    "    ys=np.array((y1,y2,y3),dtype=float)\n",
    "\n",
    "    # The possible range of coordinates that can be returned\n",
    "    x_range=np.arange(np.min(xs),np.max(xs)+1)\n",
    "    y_range=np.arange(np.min(ys),np.max(ys)+1)\n",
    "\n",
    "    # Set the grid of coordinates on which the triangle lies. The centre of the\n",
    "    # triangle serves as a criterion for what is inside or outside the triangle.\n",
    "    X,Y=np.meshgrid( x_range,y_range )\n",
    "    xc=np.mean(xs)\n",
    "    yc=np.mean(ys)\n",
    "\n",
    "    # From the array 'triangle', points that lie outside the triangle will be\n",
    "    # set to 'False'.\n",
    "    triangle = np.ones(X.shape,dtype=bool)\n",
    "    for i in range(3):\n",
    "        ii=(i+1)%3\n",
    "        if xs[i]==xs[ii]:\n",
    "            include = X *(xc-xs[i])/abs(xc-xs[i]) > xs[i] *(xc-xs[i])/abs(xc-xs[i])\n",
    "        else:\n",
    "            poly=np.poly1d([(ys[ii]-ys[i])/(xs[ii]-xs[i]),ys[i]-xs[i]*(ys[ii]-ys[i])/(xs[ii]-xs[i])])\n",
    "            include = Y *(yc-poly(xc))/abs(yc-poly(xc)) > poly(X) *(yc-poly(xc))/abs(yc-poly(xc))\n",
    "        triangle*=include\n",
    "\n",
    "    # Output: 2 arrays with the x- and y- coordinates of the points inside the\n",
    "    # triangle.\n",
    "    \n",
    "\n",
    "    x_points = X[triangle]\n",
    "    y_points = Y[triangle]\n",
    "    points = np.column_stack((x_points.astype(int), y_points.astype(int)))\n",
    "    zero_pts = np.zeros((100,100))\n",
    "    itbuffer = np.empty(shape=((points.size/2),3), dtype=np.int32)\n",
    "    itbuffer.fill(np.nan)\n",
    "\n",
    "    itbuffer[:,0] = points[:,0]\n",
    "    itbuffer[:,1] = points[:,1]\n",
    "    itbuffer[:,2] = zero_pts[points[:,0],points[:,1]]\n",
    "\n",
    "    return itbuffer"
   ]
  },
  {
   "cell_type": "code",
   "execution_count": 3,
   "metadata": {},
   "outputs": [],
   "source": [
    "def rasterizeTri(a,b,c,region):\n",
    "    rast_list = []\n",
    "#     start_time = time.time()\n",
    "    for i in range(int(min(a[0],b[0],c[0])),int(max(a[0],b[0],c[0]))):\n",
    "        for j in range(int(min(a[1],b[1],c[1])),int(max(a[1],b[1],c[1]))):\n",
    "            w0 = edgeFunction(b,c,(i,j))\n",
    "            w1 = edgeFunction(c,a,(i,j))\n",
    "            w2 = edgeFunction(a,b,(i,j))\n",
    "\n",
    "            if w0 >= 0 and w1 >= 0 and w2 >= 0:\n",
    "                rast_list.append([(i),(j),region[i][j]])\n",
    "#                 if region[i][j] == values.get(\"green\"):\n",
    "#                     new_region[i][j] = 255\n",
    "#                 elif region[i][j] == values.get(\"red\"):\n",
    "#                     new_region[i][j] = 180\n",
    "#                 else:\n",
    "#                     new_region[i][j] = 100\n",
    "#     print time.time()-start_time\n",
    "    return rast_list"
   ]
  },
  {
   "cell_type": "code",
   "execution_count": 4,
   "metadata": {},
   "outputs": [],
   "source": [
    "def edgeFunction(a,b,c):\n",
    "    det = (c[1]-a[1]) * (b[0]-a[0]) - (c[0]-a[0]) * (b[1]-a[1])\n",
    "    return det"
   ]
  },
  {
   "cell_type": "code",
   "execution_count": 5,
   "metadata": {},
   "outputs": [
    {
     "name": "stdout",
     "output_type": "stream",
     "text": [
      "0.00078010559082\n",
      "0.00891304016113\n"
     ]
    }
   ],
   "source": [
    "start_time_it = time.time()\n",
    "points = insidetriangle((0,50,100),(0,100,0))\n",
    "print(time.time()-start_time_it)\n",
    "start_time_rt = time.time()\n",
    "a_points = rasterizeTri((0,0),(50,100),(100,0),np.zeros((100,100)))\n",
    "print(time.time()-start_time_rt)\n",
    "# values = rasterizeTri((0,0),(50,100),(100,100),zero_pts)\n",
    "\n",
    "\n",
    "# print points"
   ]
  },
  {
   "cell_type": "code",
   "execution_count": null,
   "metadata": {},
   "outputs": [],
   "source": []
  }
 ],
 "metadata": {
  "kernelspec": {
   "display_name": "Python 2",
   "language": "python",
   "name": "python2"
  },
  "language_info": {
   "codemirror_mode": {
    "name": "ipython",
    "version": 2
   },
   "file_extension": ".py",
   "mimetype": "text/x-python",
   "name": "python",
   "nbconvert_exporter": "python",
   "pygments_lexer": "ipython2",
   "version": "2.7.12"
  }
 },
 "nbformat": 4,
 "nbformat_minor": 2
}
