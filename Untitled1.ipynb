{
 "cells": [
  {
   "cell_type": "code",
   "execution_count": 1,
   "metadata": {
    "code_folding": [
     0
    ]
   },
   "outputs": [],
   "source": [
    "# Import Statements\n",
    "import cv2 as cv\n",
    "import numpy as np\n",
    "from sklearn.cluster import DBSCAN\n",
    "from sklearn import metrics\n",
    "from matplotlib import pyplot as plt\n",
    "import time\n",
    "import sys\n",
    "import multiprocessing\n",
    "import os\n",
    "import rospy\n",
    "from sensor_msgs.msg import Image\n",
    "from stereo_msgs.msg import DisparityImage\n",
    "from sensor_msgs.msg import PointCloud2\n",
    "from nav_msgs.msg import OccupancyGrid as Map\n",
    "import message_filters\n",
    "import cv_bridge\n",
    "import tf\n",
    "import math\n",
    "from std_msgs.msg import String"
   ]
  },
  {
   "cell_type": "code",
   "execution_count": 2,
   "metadata": {
    "code_folding": []
   },
   "outputs": [],
   "source": [
    "def insidetriangle((x1,x2,x3),(y1,y2,y3)):\n",
    "    \n",
    "    xs=np.array((x1,x2,x3),dtype=float)\n",
    "    ys=np.array((y1,y2,y3),dtype=float)\n",
    "\n",
    "    # The possible range of coordinates that can be returned\n",
    "    x_range=np.arange(np.min(xs),np.max(xs)+1)\n",
    "    y_range=np.arange(np.min(ys),np.max(ys)+1)\n",
    "\n",
    "    # Set the grid of coordinates on which the triangle lies. The centre of the\n",
    "    # triangle serves as a criterion for what is inside or outside the triangle.\n",
    "    X,Y=np.meshgrid( x_range,y_range )\n",
    "    xc=np.mean(xs)\n",
    "    yc=np.mean(ys)\n",
    "\n",
    "    # From the array 'triangle', points that lie outside the triangle will be\n",
    "    # set to 'False'.\n",
    "    triangle = np.ones(X.shape,dtype=bool)\n",
    "    for i in range(3):\n",
    "        ii=(i+1)%3\n",
    "        if xs[i]==xs[ii]:\n",
    "            include = X *(xc-xs[i])/abs(xc-xs[i]) >= xs[i] *(xc-xs[i])/abs(xc-xs[i]) #Change to > for points inside edge\n",
    "        else:\n",
    "            poly=np.poly1d([(ys[ii]-ys[i])/(xs[ii]-xs[i]),ys[i]-xs[i]*(ys[ii]-ys[i])/(xs[ii]-xs[i])])\n",
    "            include = Y *(yc-poly(xc))/abs(yc-poly(xc)) >= poly(X) *(yc-poly(xc))/abs(yc-poly(xc)) #Change to > for points inside edge\n",
    "        triangle*=include\n",
    "\n",
    "    # Output: 2 arrays with the x- and y- coordinates of the points inside the\n",
    "    # triangle.\n",
    "    \n",
    "#     itbuffer[:,2] = img[itbuffer[:,1].astype(np.uint),itbuffer[:,0].astype(np.uint)]\n",
    "    \n",
    "    return X[triangle],Y[triangle]"
   ]
  },
  {
   "cell_type": "code",
   "execution_count": 9,
   "metadata": {},
   "outputs": [
    {
     "name": "stdout",
     "output_type": "stream",
     "text": [
      "('x_values: ', array([0, 1, 2, 3, 1, 2, 2], dtype=uint64))\n",
      "('y_values: ', array([0, 0, 0, 0, 1, 1, 2], dtype=uint64))\n"
     ]
    }
   ],
   "source": [
    "x_values, y_values = insidetriangle((0,2,3),(0,2,0))\n",
    "x_values = x_values.astype(np.uint)\n",
    "y_values = y_values.astype(np.uint)\n",
    "print (\"x_values: \", x_values)\n",
    "print (\"y_values: \", y_values)\n",
    "map_np = [\n",
    "     [1, 2, 3, 4],\n",
    "     [5, 6, 7, 8],\n",
    "     [9,10,11,12],\n",
    "     [13,14,15,16]\n",
    "]\n",
    "# # print (map_np[x_values[1]][y_values[1]])\n",
    "# values = \n",
    "# values = map_np[x_values[:,1].astype(np.uint),y_values[:,1].astype(np.uint)]\n",
    "# # print (\"values: \", values)"
   ]
  },
  {
   "cell_type": "code",
   "execution_count": 4,
   "metadata": {
    "code_folding": [
     0
    ]
   },
   "outputs": [],
   "source": [
    "def createLineIterator(P1, P2, img):\n",
    "# \"\"\"\n",
    "# Produces and array that consists of the coordinates and intensities of\n",
    "# each pixel in a line between two points\n",
    "\n",
    "# Parameters:\n",
    "#     -P1: a numpy array that consists of the coordinate of the first point (x,y)\n",
    "#     -P2: a numpy array that consists of the coordinate of the second point (x,y)\n",
    "#     -img: the image being processed\n",
    "\n",
    "# Returns:\n",
    "#     -it: a numpy array that consists of the coordinates and intensities of each\n",
    "#     pixel in the radii (shape: [numPixels, 3], row = [x,y,intensity])     \n",
    "# \"\"\"\n",
    "   #define local variables for readability\n",
    "    #print img.shape\n",
    "    image_height = img.shape[0]\n",
    "    image_width = img.shape[1]\n",
    "    P1X = P1[0]\n",
    "    P1Y = P1[1]\n",
    "    P2X = P2[0]\n",
    "    P2Y = P2[1]\n",
    "    \n",
    "   #difference and absolute difference between points\n",
    "   #used to calculate slope and relative location between points\n",
    "    dX = P2X - P1X\n",
    "    dY = P2Y - P1Y\n",
    "    dXa = np.abs(dX)\n",
    "    dYa = np.abs(dY)\n",
    "\n",
    "    #predefine numpy array for output based on distance between points\n",
    "    itbuffer = np.empty(shape=(np.maximum(dYa,dXa),3), dtype=np.int32)\n",
    "    itbuffer.fill(np.nan)\n",
    "\n",
    "   #Obtain coordinates along the line using a form of Bresenham's algorithm\n",
    "    negY = P1Y > P2Y\n",
    "    negX = P1X > P2X\n",
    "    if P1X == P2X: #vertical line segment\n",
    "        itbuffer[:,0] = P1X\n",
    "        if negY:\n",
    "            itbuffer[:,1] = np.arange(P1Y - 1,P1Y - dYa - 1,-1)\n",
    "        else:\n",
    "            itbuffer[:,1] = np.arange(P1Y+1,P1Y+dYa+1)              \n",
    "    elif P1Y == P2Y: #horizontal line segment\n",
    "        itbuffer[:,1] = P1Y\n",
    "        if negX:\n",
    "            itbuffer[:,0] = np.arange(P1X-1,P1X-dXa-1,-1)\n",
    "        else:\n",
    "            itbuffer[:,0] = np.arange(P1X+1,P1X+dXa+1)\n",
    "    else: #diagonal line segment\n",
    "        steepSlope = dYa > dXa\n",
    "        if steepSlope:\n",
    "            slope = dX.astype(np.float32)/dY.astype(np.float32)\n",
    "            if negY:\n",
    "                itbuffer[:,1] = np.arange(P1Y-1,P1Y-dYa-1,-1)\n",
    "            else:\n",
    "                itbuffer[:,1] = np.arange(P1Y+1,P1Y+dYa+1)\n",
    "            itbuffer[:,0] = (slope*(itbuffer[:,1]-P1Y)).astype(np.int) + P1X\n",
    "        else:\n",
    "            slope = dY.astype(np.float32)/dX.astype(np.float32)\n",
    "            if negX:\n",
    "                itbuffer[:,0] = np.arange(P1X-1,P1X-dXa-1,-1)\n",
    "            else:\n",
    "                itbuffer[:,0] = np.arange(P1X+1,P1X+dXa+1)\n",
    "            itbuffer[:,1] = (slope*(itbuffer[:,0]-P1X)).astype(np.int) + P1Y\n",
    "\n",
    "   #Remove points outside of image\n",
    "    colX = itbuffer[:,0]\n",
    "    colY = itbuffer[:,1]\n",
    "    itbuffer = itbuffer[(colX >= 0) & (colY >=0) & (colX<image_width) & (colY<image_height)]\n",
    "\n",
    "   #Get intensities from img ndarray\n",
    "    itbuffer[:,2] = img[itbuffer[:,1].astype(np.uint),itbuffer[:,0].astype(np.uint)]\n",
    "    return itbuffer"
   ]
  }
 ],
 "metadata": {
  "kernelspec": {
   "display_name": "Python 2",
   "language": "python",
   "name": "python2"
  },
  "language_info": {
   "codemirror_mode": {
    "name": "ipython",
    "version": 2
   },
   "file_extension": ".py",
   "mimetype": "text/x-python",
   "name": "python",
   "nbconvert_exporter": "python",
   "pygments_lexer": "ipython2",
   "version": "2.7.12"
  }
 },
 "nbformat": 4,
 "nbformat_minor": 2
}
