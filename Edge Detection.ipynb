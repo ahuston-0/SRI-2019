{
 "cells": [
  {
   "cell_type": "code",
   "execution_count": 1,
   "metadata": {},
   "outputs": [],
   "source": [
    "import cv2\n",
    "import numpy as np\n",
    "import os\n",
    "import gc\n",
    "import matplotlib.pyplot as pyp\n",
    "import sklearn.cluster as skl\n",
    "\n",
    "import time"
   ]
  },
  {
   "cell_type": "code",
   "execution_count": 2,
   "metadata": {},
   "outputs": [],
   "source": [
    "# Initialize global variables and enable garbage collection\n",
    "# This is gonna be a huge job\n",
    "gc.enable()\n",
    "dir = \"/home/alice/Jupyter/OpenCV/images/\"\n",
    "out = \"/home/alice/Jupyter/OpenCV/output/\"\n",
    "buoy_dir = \"/home/alice/Jupyter/OpenCV/Buoys/\"\n",
    "\n",
    "buoy = cv2.imread(buoy_dir+\"redbuoy.png\")\n",
    "buoy = cv2.cvtColor(buoy, cv2.COLOR_BGR2GRAY)\n",
    "img = []\n",
    "original = []\n",
    "max_size = len(os.listdir(dir))\n",
    "iteration = 0\n",
    "arr_size = 500"
   ]
  },
  {
   "cell_type": "code",
   "execution_count": 3,
   "metadata": {},
   "outputs": [],
   "source": [
    "# Read in images and pass them to the transform function\n",
    "def iterator():\n",
    "    global max_size\n",
    "    for i in range(0,max_size):\n",
    "        img.append(cv2.imread(dir + \"left\" + str(i).zfill(4) + \".jpg\"))\n",
    "        original.append(img[i % arr_size])\n",
    "        \n",
    "        transform(i)\n",
    "    return True"
   ]
  },
  {
   "cell_type": "code",
   "execution_count": 4,
   "metadata": {},
   "outputs": [],
   "source": [
    "#Process image by deleting background information, blurring, doing a sobel transform, and thresholding\n",
    "#Most stable version for quickly generating a dataset\n",
    "def transform_stable(i):\n",
    "    global iteration\n",
    "    global original\n",
    "    if i > 0 and (len(img) % arr_size == 0 or len(img) + arr_size * iteration == max_size):        \n",
    "        for j in range(0, max_size):\n",
    "            im = np.array(img[j])[0:500][0:800]\n",
    "            im = delete_blue(im)\n",
    "            im = np.uint8(im)\n",
    "            im = cv2.cvtColor(im, cv2.COLOR_HSV2BGR)\n",
    "            im = cv2.cvtColor(im, cv2.COLOR_BGR2GRAY)\n",
    "            \n",
    "            write(im, j)\n",
    "            \n",
    "        reset()\n",
    "        iteration = iteration + 1\n",
    "        return True\n",
    "    return False"
   ]
  },
  {
   "cell_type": "code",
   "execution_count": 5,
   "metadata": {},
   "outputs": [],
   "source": [
    "#Process image by deleting background information, blurring, doing a sobel transform, and thresholding\n",
    "#In-progress function, test new functionality here\n",
    "def transform(i):\n",
    "    global iteration\n",
    "    global original\n",
    "    if i > 0 and (len(img) % arr_size == 0 or len(img) + arr_size * iteration == max_size):        \n",
    "        for j in range(0, len(img)):\n",
    "            im = np.array(img[j])[0:500][0:800]\n",
    "            im = delete_blue(im)\n",
    "            im = cv2.cvtColor(im, cv2.COLOR_HSV2BGR)\n",
    "            im = cv2.cvtColor(im, cv2.COLOR_BGR2GRAY)\n",
    "            \n",
    "            im = cv2.GaussianBlur(im, ksize=(0,0), sigmaX=0.5, sigmaY=.75, borderType=cv2.BORDER_DEFAULT)\n",
    "            im = cv2.threshold(im, 40, 255, cv2.THRESH_BINARY)[1]\n",
    "            im = cv2.medianBlur(im, 3)\n",
    "            im = cv2.GaussianBlur(im, ksize=(0,0), sigmaX=0.5, sigmaY=.75, borderType=cv2.BORDER_DEFAULT)\n",
    "            \n",
    "            im_nz = np.nonzero(im)\n",
    "            im_nz = np.column_stack((im_nz[1], im_nz[0]))\n",
    "            \n",
    "            cluster(im_nz, j)\n",
    "            \n",
    "            write(im, j)\n",
    "            \n",
    "        reset()\n",
    "        iteration = iteration + 1\n",
    "        return True\n",
    "    return False\n"
   ]
  },
  {
   "cell_type": "code",
   "execution_count": 6,
   "metadata": {},
   "outputs": [],
   "source": [
    "def cluster(image, index):    \n",
    "    global iteration\n",
    "    try:\n",
    "        clustering = skl.DBSCAN(eps = 1, min_samples = 3, n_jobs=-1)\n",
    "        clustering = clustering.fit(image)\n",
    "        clustering = clustering.labels_\n",
    "    except:\n",
    "        print(\"image %d has no clusters\" % (index + iteration*arr_size))\n",
    "    \n",
    "    #print(clustering)\n",
    "    \n",
    "    return False\n",
    "    "
   ]
  },
  {
   "cell_type": "code",
   "execution_count": 7,
   "metadata": {},
   "outputs": [],
   "source": [
    "#Delete all pixels that are outside of a certain red/green range\n",
    "def delete_blue(image):\n",
    "    image = cv2.cvtColor(image, cv2.COLOR_BGR2HSV)\n",
    "    image[np.logical_not(np.logical_or(np.logical_and(image[:,:,0] > 70, image[:,:,0] < 90),np.logical_or(image[:,:,0] >= 170, image[:,:,0] < 10)))] = [0,0,0]\n",
    "    return(image)"
   ]
  },
  {
   "cell_type": "code",
   "execution_count": 8,
   "metadata": {},
   "outputs": [],
   "source": [
    "#for writing one instance of an image\n",
    "def write(image, index):\n",
    "    cv2.imwrite(out + \"out\" + str(index + iteration * arr_size).zfill(4) + \".jpg\", image)\n",
    "    return True"
   ]
  },
  {
   "cell_type": "code",
   "execution_count": 9,
   "metadata": {},
   "outputs": [],
   "source": [
    "#for writing multiple instances of an image. ex. when separating an image into red and green channels\n",
    "def write_rg(image, index, color_index):\n",
    "    cv2.imwrite(out + \"out\" + str(index + iteration * arr_size).zfill(4) + \"-\" + str(color_index) + \".jpg\", image)\n",
    "    return True"
   ]
  },
  {
   "cell_type": "code",
   "execution_count": 10,
   "metadata": {},
   "outputs": [],
   "source": [
    "#an extension of write_rg for multiple sets of images. ex. recording multiple filters of red and green channels of an image\n",
    "def write_rg_mult(image, index, color_index, mult):\n",
    "    cv2.imwrite(out + \"out\" + str(index + iteration * arr_size).zfill(4) + \"-\" + str(color_index) + \"-\" + str(mult) + \".jpg\", image)\n",
    "    return True"
   ]
  },
  {
   "cell_type": "code",
   "execution_count": 11,
   "metadata": {},
   "outputs": [],
   "source": [
    "#Delete the contents of the image arrays, used for preserving memory by doing operations on images in batches\n",
    "def reset():\n",
    "    del img[:]\n",
    "    del original[:]\n",
    "    return True"
   ]
  },
  {
   "cell_type": "code",
   "execution_count": 12,
   "metadata": {
    "scrolled": false
   },
   "outputs": [
    {
     "name": "stdout",
     "output_type": "stream",
     "text": [
      "% seconds 51.73242926597595\n"
     ]
    }
   ],
   "source": [
    "if __name__ == \"__main__\":\n",
    "    reset()\n",
    "    start_time =time.time()\n",
    "    iterator()\n",
    "    print('% seconds', time.time()-start_time )"
   ]
  },
  {
   "cell_type": "code",
   "execution_count": null,
   "metadata": {},
   "outputs": [],
   "source": []
  }
 ],
 "metadata": {
  "kernelspec": {
   "display_name": "Python 3",
   "language": "python",
   "name": "python3"
  },
  "language_info": {
   "codemirror_mode": {
    "name": "ipython",
    "version": 3
   },
   "file_extension": ".py",
   "mimetype": "text/x-python",
   "name": "python",
   "nbconvert_exporter": "python",
   "pygments_lexer": "ipython3",
   "version": "3.6.8"
  }
 },
 "nbformat": 4,
 "nbformat_minor": 2
}
