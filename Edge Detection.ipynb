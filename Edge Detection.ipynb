{
 "cells": [
  {
   "cell_type": "code",
   "execution_count": 1,
   "metadata": {},
   "outputs": [],
   "source": [
    "import cv2\n",
    "import numpy as np\n",
    "import os\n",
    "import gc\n",
    "import matplotlib.pyplot as pyp\n",
    "import sklearn.cluster as skl\n",
    "\n",
    "import time"
   ]
  },
  {
   "cell_type": "code",
   "execution_count": 2,
   "metadata": {},
   "outputs": [],
   "source": [
    "# Initialize global variables and enable garbage collection\n",
    "# This is gonna be a huge job\n",
    "gc.enable()\n",
    "dir = \"/home/alice/Jupyter/OpenCV/images/\"\n",
    "out = \"/home/alice/Jupyter/OpenCV/output/\"\n",
    "buoy_dir = \"/home/alice/Jupyter/OpenCV/Buoys/\"\n",
    "\n",
    "buoy = cv2.imread(buoy_dir+\"redbuoy.png\")\n",
    "buoy = cv2.cvtColor(buoy, cv2.COLOR_BGR2GRAY)\n",
    "img = []\n",
    "original = []\n",
    "max_size = len(os.listdir(dir))\n",
    "iteration = 0\n",
    "arr_size = 10"
   ]
  },
  {
   "cell_type": "code",
   "execution_count": 3,
   "metadata": {},
   "outputs": [],
   "source": [
    "# Read in images and pass them to the transform function\n",
    "def iterator():\n",
    "    global max_size\n",
    "    for i in range(1600,1700):\n",
    "        img.append(cv2.imread(dir + \"left\" + str(i).zfill(4) + \".jpg\"))\n",
    "        original.append(img[i % arr_size])\n",
    "        \n",
    "        transform_stable(i)\n",
    "    return True"
   ]
  },
  {
   "cell_type": "code",
   "execution_count": 4,
   "metadata": {},
   "outputs": [],
   "source": [
    "#Process image by deleting background information, blurring, doing a sobel transform, and thresholding\n",
    "#Most stable version for quickly generating a dataset\n",
    "def transform_stable(i):\n",
    "    global iteration\n",
    "    global original\n",
    "    if i > 0 and (len(img) % arr_size == 0 or len(img) + arr_size * iteration == max_size):        \n",
    "        for j in range(0, len(img)):\n",
    "            im = np.array(img[j])[0:500][0:800]\n",
    "            im = delete_blue(im)\n",
    "            im = cv2.cvtColor(im, cv2.COLOR_HSV2BGR)\n",
    "            im = cv2.cvtColor(im, cv2.COLOR_BGR2GRAY)\n",
    "            \n",
    "            im = cv2.GaussianBlur(im, ksize=(0,0), sigmaX=0.5, sigmaY=.75, borderType=cv2.BORDER_DEFAULT)\n",
    "            im = cv2.threshold(im, 40, 255, cv2.THRESH_BINARY)[1]\n",
    "            im = cv2.medianBlur(im, 3)\n",
    "            im = cv2.GaussianBlur(im, ksize=(0,0), sigmaX=0.5, sigmaY=.75, borderType=cv2.BORDER_DEFAULT)\n",
    "            \n",
    "            im_nz = np.nonzero(im)\n",
    "            im_nz = np.column_stack((im_nz[1], im_nz[0]))\n",
    "            \n",
    "            im_nz = cluster(im_nz, j)\n",
    "            \n",
    "            write(im, j)\n",
    "            \n",
    "        reset()\n",
    "        iteration = iteration + 1\n",
    "        return True\n",
    "    return False"
   ]
  },
  {
   "cell_type": "code",
   "execution_count": 5,
   "metadata": {},
   "outputs": [],
   "source": [
    "#Process image by deleting background information, blurring, doing a sobel transform, and thresholding\n",
    "#In-progress function, test new functionality here\n",
    "def transform(i):\n",
    "    global iteration\n",
    "    global original\n",
    "    if i > 0 and (len(img) % arr_size == 0 or len(img) + arr_size * iteration == max_size):        \n",
    "        for j in range(0, len(img)):\n",
    "            im = np.array(img[j])[0:500][0:800]\n",
    "            im = delete_blue(im)\n",
    "            im = cv2.cvtColor(im, cv2.COLOR_HSV2BGR)\n",
    "            im = cv2.cvtColor(im, cv2.COLOR_BGR2GRAY)\n",
    "            \n",
    "            im = cv2.GaussianBlur(im, ksize=(0,0), sigmaX=0.5, sigmaY=.75, borderType=cv2.BORDER_DEFAULT)\n",
    "            im = cv2.threshold(im, 40, 255, cv2.THRESH_BINARY)[1]\n",
    "            im = cv2.medianBlur(im, 3)\n",
    "            im = cv2.GaussianBlur(im, ksize=(0,0), sigmaX=0.5, sigmaY=.75, borderType=cv2.BORDER_DEFAULT)\n",
    "            \n",
    "            im_nz = np.nonzero(im)\n",
    "            im_nz = np.column_stack((im_nz[1], im_nz[0]))\n",
    "            \n",
    "            im_nz = cluster(im_nz, j)\n",
    "            \n",
    "            write(im_nz, j)\n",
    "            \n",
    "        reset()\n",
    "        iteration = iteration + 1\n",
    "        return True\n",
    "    return False\n"
   ]
  },
  {
   "cell_type": "code",
   "execution_count": 6,
   "metadata": {},
   "outputs": [],
   "source": [
    "def cluster(image, index):    \n",
    "    global iteration\n",
    "    try:\n",
    "        clustering = skl.DBSCAN(eps = 1, min_samples = 3, n_jobs=-1)\n",
    "        clustering = clustering.fit(image)\n",
    "        clustering = clustering.labels_\n",
    "        unique = np.unique(clustering)\n",
    "    except:\n",
    "        print(\"image %d has no clusters\" % (index + iteration*arr_size))\n",
    "    \n",
    "    clustering = np.column_stack((clustering,image))\n",
    "    clustering = clustering[clustering[:,0].argsort()]\n",
    "    clustering = clustering[:][clustering[:,0]!=-1]\n",
    "    \n",
    "    for i in range(0,len(unique)):\n",
    "        slice = clustering[:][clustering[:,0] == i]\n",
    "        slice = slice[:,1:3]\n",
    "        slice = cv2.minAreaRect(slice)\n",
    "        slice = cv2.boxPoints(slice)\n",
    "        slice = np.int0(slice)\n",
    "        print(slice)\n",
    "        image = cv2.drawContours(image, [slice], 0, (0,255,255), 2)\n",
    "        cv2.imshow(\"slice\", np.uint8(image))\n",
    "        cv2.waitKey(0)\n",
    "        cv2.destroyAllWindows()\n",
    "        \n",
    "        \n",
    "    return image\n",
    "    "
   ]
  },
  {
   "cell_type": "code",
   "execution_count": 7,
   "metadata": {},
   "outputs": [],
   "source": [
    "#Delete all pixels that are outside of a certain red/green range\n",
    "def delete_blue(image):\n",
    "    image = cv2.cvtColor(image, cv2.COLOR_BGR2HSV)\n",
    "    image[np.logical_not(np.logical_or(np.logical_and(image[:,:,0] > 70, image[:,:,0] < 90),np.logical_or(image[:,:,0] >= 170, image[:,:,0] < 10)))] = [0,0,0]\n",
    "    return(image)"
   ]
  },
  {
   "cell_type": "code",
   "execution_count": 8,
   "metadata": {},
   "outputs": [],
   "source": [
    "#for writing one instance of an image\n",
    "def write(image, index):\n",
    "    cv2.imwrite(out + \"out\" + str(index + iteration * arr_size).zfill(4) + \".jpg\", image)\n",
    "    return True"
   ]
  },
  {
   "cell_type": "code",
   "execution_count": 9,
   "metadata": {},
   "outputs": [],
   "source": [
    "#for writing multiple instances of an image. ex. when separating an image into red and green channels\n",
    "def write_rg(image, index, color_index):\n",
    "    cv2.imwrite(out + \"out\" + str(index + iteration * arr_size).zfill(4) + \"-\" + str(color_index) + \".jpg\", image)\n",
    "    return True"
   ]
  },
  {
   "cell_type": "code",
   "execution_count": 10,
   "metadata": {},
   "outputs": [],
   "source": [
    "#an extension of write_rg for multiple sets of images. ex. recording multiple filters of red and green channels of an image\n",
    "def write_rg_mult(image, index, color_index, mult):\n",
    "    cv2.imwrite(out + \"out\" + str(index + iteration * arr_size).zfill(4) + \"-\" + str(color_index) + \"-\" + str(mult) + \".jpg\", image)\n",
    "    return True"
   ]
  },
  {
   "cell_type": "code",
   "execution_count": 11,
   "metadata": {},
   "outputs": [],
   "source": [
    "#Delete the contents of the image arrays, used for preserving memory by doing operations on images in batches\n",
    "def reset():\n",
    "    del img[:]\n",
    "    del original[:]\n",
    "    return True"
   ]
  },
  {
   "cell_type": "code",
   "execution_count": 12,
   "metadata": {
    "scrolled": false
   },
   "outputs": [
    {
     "name": "stdout",
     "output_type": "stream",
     "text": [
      "[[211 273]\n",
      " [211 267]\n",
      " [215 267]\n",
      " [215 273]]\n"
     ]
    },
    {
     "ename": "TypeError",
     "evalue": "int() argument must be a string, a bytes-like object or a number, not 'cv2.UMat'",
     "output_type": "error",
     "traceback": [
      "\u001b[0;31m---------------------------------------------------------------------------\u001b[0m",
      "\u001b[0;31mTypeError\u001b[0m                                 Traceback (most recent call last)",
      "\u001b[0;32m<ipython-input-12-15e0215de3d0>\u001b[0m in \u001b[0;36m<module>\u001b[0;34m\u001b[0m\n\u001b[1;32m      2\u001b[0m     \u001b[0mreset\u001b[0m\u001b[0;34m(\u001b[0m\u001b[0;34m)\u001b[0m\u001b[0;34m\u001b[0m\u001b[0;34m\u001b[0m\u001b[0m\n\u001b[1;32m      3\u001b[0m     \u001b[0mstart_time\u001b[0m \u001b[0;34m=\u001b[0m\u001b[0mtime\u001b[0m\u001b[0;34m.\u001b[0m\u001b[0mtime\u001b[0m\u001b[0;34m(\u001b[0m\u001b[0;34m)\u001b[0m\u001b[0;34m\u001b[0m\u001b[0;34m\u001b[0m\u001b[0m\n\u001b[0;32m----> 4\u001b[0;31m     \u001b[0miterator\u001b[0m\u001b[0;34m(\u001b[0m\u001b[0;34m)\u001b[0m\u001b[0;34m\u001b[0m\u001b[0;34m\u001b[0m\u001b[0m\n\u001b[0m\u001b[1;32m      5\u001b[0m     \u001b[0;31m#print('%d seconds', time.time()-start_time )\u001b[0m\u001b[0;34m\u001b[0m\u001b[0;34m\u001b[0m\u001b[0;34m\u001b[0m\u001b[0m\n",
      "\u001b[0;32m<ipython-input-3-d5d401a5f861>\u001b[0m in \u001b[0;36miterator\u001b[0;34m()\u001b[0m\n\u001b[1;32m      6\u001b[0m         \u001b[0moriginal\u001b[0m\u001b[0;34m.\u001b[0m\u001b[0mappend\u001b[0m\u001b[0;34m(\u001b[0m\u001b[0mimg\u001b[0m\u001b[0;34m[\u001b[0m\u001b[0mi\u001b[0m \u001b[0;34m%\u001b[0m \u001b[0marr_size\u001b[0m\u001b[0;34m]\u001b[0m\u001b[0;34m)\u001b[0m\u001b[0;34m\u001b[0m\u001b[0;34m\u001b[0m\u001b[0m\n\u001b[1;32m      7\u001b[0m \u001b[0;34m\u001b[0m\u001b[0m\n\u001b[0;32m----> 8\u001b[0;31m         \u001b[0mtransform_stable\u001b[0m\u001b[0;34m(\u001b[0m\u001b[0mi\u001b[0m\u001b[0;34m)\u001b[0m\u001b[0;34m\u001b[0m\u001b[0;34m\u001b[0m\u001b[0m\n\u001b[0m\u001b[1;32m      9\u001b[0m     \u001b[0;32mreturn\u001b[0m \u001b[0;32mTrue\u001b[0m\u001b[0;34m\u001b[0m\u001b[0;34m\u001b[0m\u001b[0m\n",
      "\u001b[0;32m<ipython-input-4-c5d26a197e21>\u001b[0m in \u001b[0;36mtransform_stable\u001b[0;34m(i)\u001b[0m\n\u001b[1;32m     19\u001b[0m             \u001b[0mim_nz\u001b[0m \u001b[0;34m=\u001b[0m \u001b[0mnp\u001b[0m\u001b[0;34m.\u001b[0m\u001b[0mcolumn_stack\u001b[0m\u001b[0;34m(\u001b[0m\u001b[0;34m(\u001b[0m\u001b[0mim_nz\u001b[0m\u001b[0;34m[\u001b[0m\u001b[0;36m1\u001b[0m\u001b[0;34m]\u001b[0m\u001b[0;34m,\u001b[0m \u001b[0mim_nz\u001b[0m\u001b[0;34m[\u001b[0m\u001b[0;36m0\u001b[0m\u001b[0;34m]\u001b[0m\u001b[0;34m)\u001b[0m\u001b[0;34m)\u001b[0m\u001b[0;34m\u001b[0m\u001b[0;34m\u001b[0m\u001b[0m\n\u001b[1;32m     20\u001b[0m \u001b[0;34m\u001b[0m\u001b[0m\n\u001b[0;32m---> 21\u001b[0;31m             \u001b[0mim_nz\u001b[0m \u001b[0;34m=\u001b[0m \u001b[0mcluster\u001b[0m\u001b[0;34m(\u001b[0m\u001b[0mim_nz\u001b[0m\u001b[0;34m,\u001b[0m \u001b[0mj\u001b[0m\u001b[0;34m)\u001b[0m\u001b[0;34m\u001b[0m\u001b[0;34m\u001b[0m\u001b[0m\n\u001b[0m\u001b[1;32m     22\u001b[0m \u001b[0;34m\u001b[0m\u001b[0m\n\u001b[1;32m     23\u001b[0m             \u001b[0mwrite\u001b[0m\u001b[0;34m(\u001b[0m\u001b[0mim\u001b[0m\u001b[0;34m,\u001b[0m \u001b[0mj\u001b[0m\u001b[0;34m)\u001b[0m\u001b[0;34m\u001b[0m\u001b[0;34m\u001b[0m\u001b[0m\n",
      "\u001b[0;32m<ipython-input-6-dab9b9212586>\u001b[0m in \u001b[0;36mcluster\u001b[0;34m(image, index)\u001b[0m\n\u001b[1;32m     21\u001b[0m         \u001b[0mprint\u001b[0m\u001b[0;34m(\u001b[0m\u001b[0mslice\u001b[0m\u001b[0;34m)\u001b[0m\u001b[0;34m\u001b[0m\u001b[0;34m\u001b[0m\u001b[0m\n\u001b[1;32m     22\u001b[0m         \u001b[0mimage\u001b[0m \u001b[0;34m=\u001b[0m \u001b[0mcv2\u001b[0m\u001b[0;34m.\u001b[0m\u001b[0mdrawContours\u001b[0m\u001b[0;34m(\u001b[0m\u001b[0mimage\u001b[0m\u001b[0;34m,\u001b[0m \u001b[0;34m[\u001b[0m\u001b[0mslice\u001b[0m\u001b[0;34m]\u001b[0m\u001b[0;34m,\u001b[0m \u001b[0;36m0\u001b[0m\u001b[0;34m,\u001b[0m \u001b[0;34m(\u001b[0m\u001b[0;36m0\u001b[0m\u001b[0;34m,\u001b[0m\u001b[0;36m255\u001b[0m\u001b[0;34m,\u001b[0m\u001b[0;36m255\u001b[0m\u001b[0;34m)\u001b[0m\u001b[0;34m,\u001b[0m \u001b[0;36m2\u001b[0m\u001b[0;34m)\u001b[0m\u001b[0;34m\u001b[0m\u001b[0;34m\u001b[0m\u001b[0m\n\u001b[0;32m---> 23\u001b[0;31m         \u001b[0mcv2\u001b[0m\u001b[0;34m.\u001b[0m\u001b[0mimshow\u001b[0m\u001b[0;34m(\u001b[0m\u001b[0;34m\"slice\"\u001b[0m\u001b[0;34m,\u001b[0m \u001b[0mnp\u001b[0m\u001b[0;34m.\u001b[0m\u001b[0muint8\u001b[0m\u001b[0;34m(\u001b[0m\u001b[0mimage\u001b[0m\u001b[0;34m)\u001b[0m\u001b[0;34m)\u001b[0m\u001b[0;34m\u001b[0m\u001b[0;34m\u001b[0m\u001b[0m\n\u001b[0m\u001b[1;32m     24\u001b[0m         \u001b[0mcv2\u001b[0m\u001b[0;34m.\u001b[0m\u001b[0mwaitKey\u001b[0m\u001b[0;34m(\u001b[0m\u001b[0;36m0\u001b[0m\u001b[0;34m)\u001b[0m\u001b[0;34m\u001b[0m\u001b[0;34m\u001b[0m\u001b[0m\n\u001b[1;32m     25\u001b[0m         \u001b[0mcv2\u001b[0m\u001b[0;34m.\u001b[0m\u001b[0mdestroyAllWindows\u001b[0m\u001b[0;34m(\u001b[0m\u001b[0;34m)\u001b[0m\u001b[0;34m\u001b[0m\u001b[0;34m\u001b[0m\u001b[0m\n",
      "\u001b[0;31mTypeError\u001b[0m: int() argument must be a string, a bytes-like object or a number, not 'cv2.UMat'"
     ]
    }
   ],
   "source": [
    "if __name__ == \"__main__\":\n",
    "    reset()\n",
    "    start_time =time.time()\n",
    "    iterator()\n",
    "    #print('%d seconds', time.time()-start_time )"
   ]
  },
  {
   "cell_type": "code",
   "execution_count": null,
   "metadata": {},
   "outputs": [],
   "source": []
  }
 ],
 "metadata": {
  "kernelspec": {
   "display_name": "Python 3",
   "language": "python",
   "name": "python3"
  },
  "language_info": {
   "codemirror_mode": {
    "name": "ipython",
    "version": 3
   },
   "file_extension": ".py",
   "mimetype": "text/x-python",
   "name": "python",
   "nbconvert_exporter": "python",
   "pygments_lexer": "ipython3",
   "version": "3.6.8"
  }
 },
 "nbformat": 4,
 "nbformat_minor": 2
}
