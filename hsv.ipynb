{
 "cells": [
  {
   "cell_type": "code",
   "execution_count": 3,
   "metadata": {},
   "outputs": [],
   "source": [
    "import numpy as np\n",
    "import matplotlib.pyplot as plt\n",
    "from sklearn.cluster import DBSCAN\n",
    "import sys\n",
    "\n",
    "import cv2 as cv\n",
    "import time\n",
    "import multiprocessing"
   ]
  },
  {
   "cell_type": "code",
   "execution_count": 4,
   "metadata": {},
   "outputs": [],
   "source": [
    "def transform(image):\n",
    "    img = cv.Canny(image, 100,200)\n",
    "    return img"
   ]
  },
  {
   "cell_type": "code",
   "execution_count": 16,
   "metadata": {},
   "outputs": [],
   "source": [
    "#Delete all pixels that are outside of a certain red/green range\n",
    "def pp(image):\n",
    "    image = np.array(image[0:800][0:515])\n",
    "    image = cv.cvtColor(image, cv.COLOR_BGR2HSV)\n",
    "    image[np.logical_not(np.logical_or(np.logical_and(image[:,:,0] > 70, image[:,:,0] < 90),np.logical_or(image[:,:,0] >= 170, image[:,:,0] < 10)))] = [0,0,0]\n",
    "    image = cv.cvtColor(image,cv.COLOR_HSV2BGR)\n",
    "    return(image)"
   ]
  },
  {
   "cell_type": "code",
   "execution_count": 5,
   "metadata": {},
   "outputs": [],
   "source": [
    "def read(x):\n",
    "    img2 = cv.imread('images/left' + str(x).zfill(4) + '.jpg',1)\n",
    "    result1 = transform(img2)\n",
    "    cv.imwrite('output_images/canny/canny' + str(x).zfill(4) + '.jpg', result1)"
   ]
  },
  {
   "cell_type": "code",
   "execution_count": 6,
   "metadata": {},
   "outputs": [],
   "source": [
    "x = 0\n",
    "read(x)"
   ]
  },
  {
   "cell_type": "code",
   "execution_count": 7,
   "metadata": {},
   "outputs": [
    {
     "name": "stdout",
     "output_type": "stream",
     "text": [
      "That took {} seconds 48.13693881034851\n"
     ]
    }
   ],
   "source": [
    "if __name__=='__main__':\n",
    "    starttime = time.time()\n",
    "    pool = multiprocessing.Pool(multiprocessing.cpu_count())\n",
    "    \n",
    "    \n",
    "    pool.map(read,range(2927),32)\n",
    "    pool.close()\n",
    "    pool.join()\n",
    "    \n",
    "    print('That took {} seconds',format(time.time() - starttime)) "
   ]
  },
  {
   "cell_type": "code",
   "execution_count": null,
   "metadata": {},
   "outputs": [],
   "source": []
  }
 ],
 "metadata": {
  "kernelspec": {
   "display_name": "Python 3",
   "language": "python",
   "name": "python3"
  },
  "language_info": {
   "codemirror_mode": {
    "name": "ipython",
    "version": 3
   },
   "file_extension": ".py",
   "mimetype": "text/x-python",
   "name": "python",
   "nbconvert_exporter": "python",
   "pygments_lexer": "ipython3",
   "version": "3.5.2"
  }
 },
 "nbformat": 4,
 "nbformat_minor": 2
}
