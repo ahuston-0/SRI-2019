{
 "cells": [
  {
   "cell_type": "code",
   "execution_count": 1,
   "metadata": {},
   "outputs": [],
   "source": [
    "import cv2\n",
    "import numpy as np\n",
    "import os\n",
    "import gc\n",
    "import matplotlib.pyplot as pyp"
   ]
  },
  {
   "cell_type": "code",
   "execution_count": 2,
   "metadata": {},
   "outputs": [],
   "source": [
    "# Initialize global variables and enable garbage collection\n",
    "# This is gonna be a huge job\n",
    "gc.enable()\n",
    "dir = \"/home/alice/Jupyter/OpenCV/images/\"\n",
    "out = \"/home/alice/Jupyter/OpenCV/bitwise_edge_output/\"\n",
    "\n",
    "buoy = cv2.imread(dir+\"Redbuoy.jpg\")\n",
    "img = []\n",
    "original = []\n",
    "max_size = len(os.listdir(dir))\n",
    "iteration = 0\n",
    "arr_size = 100"
   ]
  },
  {
   "cell_type": "code",
   "execution_count": 3,
   "metadata": {},
   "outputs": [],
   "source": [
    "# Read in images and pass them to the transform function\n",
    "def iterator():\n",
    "    global max_size\n",
    "    for i in range(500,1700):\n",
    "        img.append(cv2.imread(dir + \"left\" + str(i).zfill(4) + \".jpg\"))\n",
    "        original.append(img[i % arr_size])\n",
    "        \n",
    "        transform(i)\n",
    "    return True"
   ]
  },
  {
   "cell_type": "code",
   "execution_count": 4,
   "metadata": {},
   "outputs": [],
   "source": [
    "def transform(i):\n",
    "    global iteration\n",
    "    global original\n",
    "    if i > 0 and (len(img) % arr_size == 0 or len(img) + arr_size * iteration == max_size):\n",
    "        min_Canny_threshold = 100\n",
    "        max_Canny_threshold = 200\n",
    "        equation = False  # When true, cv2.canny uses a more accurate equation\n",
    "        mask = filter(original)\n",
    "        min_filter_threshold = [190, 225]\n",
    "        \n",
    "        for j in range(0, len(img)):\n",
    "            im = np.array(img[j])[0:500][0:500]\n",
    "            im = cv2.GaussianBlur(im, (11,11), 0)\n",
    "            im = cv2.Sobel(im, cv2.CV_8U, 1, 0 , 1, 0, cv2.BORDER_DEFAULT)\n",
    "            im = cv2.cvtColor(im, cv2.COLOR_BGR2GRAY)\n",
    "            im = cv2.threshold(im, 70, 255, cv2.THRESH_BINARY)[1]\n",
    "            \n",
    "            #im = ip(buoy, im)\n",
    "            #contours, hierarchy = cv2.findContours(im,cv2.RETR_TREE,cv2.CHAIN_APPROX_TC89_L1)\n",
    "            #im = cv2.drawContours(im, contours, -1, (0,255,0), 3)\n",
    "            write(im, j)\n",
    "            \n",
    "        \n",
    "        reset()\n",
    "        iteration = iteration + 1\n",
    "        return True\n",
    "    return False"
   ]
  },
  {
   "cell_type": "code",
   "execution_count": 5,
   "metadata": {},
   "outputs": [],
   "source": [
    "def filter(images):\n",
    "    lower_blue = np.uint8([[[102,0,35]]])\n",
    "    upper_blue = np.uint8([[[255,204,204]]])\n",
    "    \n",
    "    lower_ocean = np.uint8([[[15,50,80]]])\n",
    "    upper_ocean = np.uint8([[[80,100,120]]])\n",
    "    \n",
    "    lower_wamv = np.uint8([[[80,80,80]]])\n",
    "    upper_wamv = np.uint8([[[110,110,110]]])\n",
    "    \n",
    "    copies = []\n",
    "    for i in range(0, len(images)):\n",
    "        copies.append(None)\n",
    "        \n",
    "        copies[i] = mask(images[i], lower_blue, upper_blue)\n",
    "        copies[i] = mask(copies[i], lower_ocean, upper_ocean)\n",
    "        copies[i] = mask(copies[i], lower_wamv, upper_wamv)\n",
    "        \n",
    "        \n",
    "    return(copies)"
   ]
  },
  {
   "cell_type": "code",
   "execution_count": 6,
   "metadata": {},
   "outputs": [],
   "source": [
    "def pull_colors(image, min, max):\n",
    "    max = max + 1\n",
    "    blanks= [np.zeros_like(image), np.zeros_like(image), np.zeros_like(image)]\n",
    "    for i in range(min, max):\n",
    "        blanks[i-1][:, :, i] = image[:, :, i]\n",
    "        cv2.cvtColor(blanks[i-1], cv2.COLOR_BGR2GRAY)\n",
    "        blanks = np.array(blanks)\n",
    "        \n",
    "    return blanks[:, :][min:max]"
   ]
  },
  {
   "cell_type": "code",
   "execution_count": 7,
   "metadata": {},
   "outputs": [],
   "source": [
    "def mask(image, min_threshold, max_threshold):\n",
    "    mask = cv2.inRange(image, min_threshold, max_threshold)\n",
    "    mask = cv2.bitwise_and(image, image, mask = mask)\n",
    "    mask = cv2.subtract(image, mask)\n",
    "    \n",
    "    return mask"
   ]
  },
  {
   "cell_type": "code",
   "execution_count": 8,
   "metadata": {},
   "outputs": [],
   "source": [
    "def filter_colors(img_pair):\n",
    "    green_bouy = np.uint8([[[[0,100,0]]],[[[5,150,5]]]])\n",
    "    red_buoy = np.uint8([[[[0,0,100]]],[[[5,5,170]]]])\n",
    "    \n",
    "    copies = None\n",
    "    copies.append(mask(img_pair, green_buoy[0], green_buoy[1]))\n",
    "    copies.append(mask(img_pair, red_buoy[0], red_buoy))\n",
    "        "
   ]
  },
  {
   "cell_type": "code",
   "execution_count": 9,
   "metadata": {},
   "outputs": [],
   "source": [
    "def write(image, index):\n",
    "    cv2.imwrite(out + \"out\" + str(index + iteration * arr_size).zfill(4) + \".jpg\", image)\n",
    "    return True"
   ]
  },
  {
   "cell_type": "code",
   "execution_count": 10,
   "metadata": {},
   "outputs": [],
   "source": [
    "def write_rg(image, index, color_index):\n",
    "    cv2.imwrite(out + \"out\" + str(index + iteration * arr_size).zfill(4) + \"-\" + str(color_index) + \".jpg\", image)\n",
    "    return True"
   ]
  },
  {
   "cell_type": "code",
   "execution_count": 11,
   "metadata": {},
   "outputs": [],
   "source": [
    "def write_rg_mult(image, index, color_index, mult):\n",
    "    cv2.imwrite(out + \"out\" + str(index + iteration * arr_size).zfill(4) + \"-\" + str(color_index) + \"-\" + str(mult) + \".jpg\", image)\n",
    "    return True"
   ]
  },
  {
   "cell_type": "code",
   "execution_count": 12,
   "metadata": {},
   "outputs": [],
   "source": [
    "def ip(image1,image2):\n",
    "    sift = cv2.xfeatures2d.SIFT_create()\n",
    "        \n",
    "    kp1, des1 = sift.detectAndCompute(image1,None)\n",
    "    kp2, des2 = sift.detectAndCompute(image2,None)\n",
    "    \n",
    "    FLANN_INDEX_KDTREE = 1\n",
    "    index_params = dict(algorithm = FLANN_INDEX_KDTREE, trees = 5)\n",
    "    search_params = dict(checks=50)   # or pass empty dictionary)\n",
    "    \n",
    "    flann = cv2.FlannBasedMatcher(index_params,search_params)\n",
    "    matches = flann.knnMatch(des1,des2,k=2)\n",
    "    \n",
    "    # Need to draw only good matches, so create a mask\n",
    "    matchesMask = [[0,0] for i in range(len(matches))]\n",
    "    \n",
    "    # ratio test as per Lowe's paper\n",
    "    for i,(m,n) in enumerate(matches):\n",
    "        if m.distance < 0.7*n.distance:\n",
    "            matchesMask[i]=[1,0]\n",
    "    \n",
    "    draw_params = dict(matchColor = (0,255,0),\n",
    "                    singlePointColor = (255,0,0),\n",
    "                    matchesMask = matchesMask,\n",
    "                    flags = cv2.DrawMatchesFlags_DEFAULT)\n",
    "    \n",
    "    img3 = cv2.drawMatchesKnn(image1,kp1,image2,kp2,matches,None,**draw_params)\n",
    "    return img3\n"
   ]
  },
  {
   "cell_type": "code",
   "execution_count": 13,
   "metadata": {},
   "outputs": [],
   "source": [
    "def reset():\n",
    "    del img[:]\n",
    "    del original[:]\n",
    "    return True"
   ]
  },
  {
   "cell_type": "code",
   "execution_count": 14,
   "metadata": {},
   "outputs": [],
   "source": [
    "def display(image):\n",
    "    pyp.imshow(image, vmin=0, vmax= 255)\n",
    "    pyp.show()\n",
    "    return True"
   ]
  },
  {
   "cell_type": "code",
   "execution_count": 15,
   "metadata": {
    "scrolled": true
   },
   "outputs": [],
   "source": [
    "if __name__ == \"__main__\":\n",
    "    iterator()"
   ]
  },
  {
   "cell_type": "code",
   "execution_count": null,
   "metadata": {},
   "outputs": [],
   "source": []
  }
 ],
 "metadata": {
  "kernelspec": {
   "display_name": "Python 3",
   "language": "python",
   "name": "python3"
  },
  "language_info": {
   "codemirror_mode": {
    "name": "ipython",
    "version": 3
   },
   "file_extension": ".py",
   "mimetype": "text/x-python",
   "name": "python",
   "nbconvert_exporter": "python",
   "pygments_lexer": "ipython3",
   "version": "3.6.8"
  }
 },
 "nbformat": 4,
 "nbformat_minor": 2
}
