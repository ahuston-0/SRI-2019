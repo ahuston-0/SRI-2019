{
 "cells": [
  {
   "cell_type": "code",
   "execution_count": 1,
   "metadata": {},
   "outputs": [],
   "source": [
    "import cv2\n",
    "import numpy as np\n",
    "import os\n",
    "import gc\n",
    "import matplotlib.pyplot as pyp"
   ]
  },
  {
   "cell_type": "code",
   "execution_count": 2,
   "metadata": {},
   "outputs": [],
   "source": [
    "# Initialize global variables and enable garbage collection\n",
    "# This is gonna be a huge job\n",
    "gc.enable()\n",
    "dir = \"/home/alice/Jupyter/OpenCV/images/\"\n",
    "out = \"/home/alice/Jupyter/OpenCV/bitwise_edge_output/\"\n",
    "\n",
    "buoy = cv2.imread(dir+\"redbuoy.png\")\n",
    "img = []\n",
    "original = []\n",
    "max_size = len(os.listdir(dir))\n",
    "iteration = 0\n",
    "arr_size = 400"
   ]
  },
  {
   "cell_type": "code",
   "execution_count": 3,
   "metadata": {},
   "outputs": [],
   "source": [
    "# Read in images and pass them to the transform function\n",
    "def iterator():\n",
    "    global max_size\n",
    "    for i in range(0,max_size-2):\n",
    "        img.append(cv2.imread(dir + \"left\" + str(i).zfill(4) + \".jpg\"))\n",
    "        original.append(img[i % arr_size])\n",
    "        \n",
    "        transform_stable(i)\n",
    "    return True"
   ]
  },
  {
   "cell_type": "code",
   "execution_count": 4,
   "metadata": {},
   "outputs": [],
   "source": [
    "#Process image by deleting background information, blurring, doing a sobel transform, and thresholding\n",
    "def transform_stable(i):\n",
    "    global iteration\n",
    "    global original\n",
    "    if i > 0 and (len(img) % arr_size == 0 or len(img) + arr_size * iteration == max_size):        \n",
    "        for j in range(0, len(img)):\n",
    "            im = np.array(img[j])[0:500][0:500]\n",
    "            im = delete_blue(im)\n",
    "            #im = cv2.cvtColor(im, cv2.COLOR_HSV2BGR)\n",
    "            #im = cv2.cvtColor(im, cv2.COLOR_BGR2GRAY)\n",
    "            #im = cv2.Canny(im, 100, 200)\n",
    "            #im = cv2.GaussianBlur(im, (11,11), 0)\n",
    "            #im = cv2.cvtColor(im, cv2.COLOR_BGR2GRAY)\n",
    "            #im = cv2.Sobel(im, cv2.CV_8U, 1, 0 , 1, 0, cv2.BORDER_DEFAULT)\n",
    "            #im = cv2.threshold(im, 70, 255, cv2.THRESH_BINARY)[1]\n",
    "            #im = compare(buoy, im)\n",
    "            write(im, j)\n",
    "            \n",
    "        reset()\n",
    "        iteration = iteration + 1\n",
    "        return True\n",
    "    return False"
   ]
  },
  {
   "cell_type": "code",
   "execution_count": 5,
   "metadata": {},
   "outputs": [],
   "source": [
    "#Process image by deleting background information, blurring, doing a sobel transform, and thresholding\n",
    "def transform(i):\n",
    "    global iteration\n",
    "    global original\n",
    "    if i > 0 and (len(img) % arr_size == 0 or len(img) + arr_size * iteration == max_size):        \n",
    "        for j in range(0, len(img)):\n",
    "            im = np.array(img[j])[0:500][0:500]\n",
    "            im = delete_blue(im)\n",
    "            im = delete_darkest(im)\n",
    "            im = cv2.cvtColor(im, cv2.COLOR_HSV2BGR)\n",
    "            im = cv2.cvtColor(im, cv2.COLOR_BGR2GRAY)\n",
    "            im = cv2.Canny(im, 100, 200)\n",
    "            #im = cv2.GaussianBlur(im, (11,11), 0)\n",
    "            #im = cv2.cvtColor(im, cv2.COLOR_BGR2GRAY)\n",
    "            #im = cv2.Sobel(im, cv2.CV_8U, 1, 0 , 1, 0, cv2.BORDER_DEFAULT)\n",
    "            #im = cv2.threshold(im, 70, 255, cv2.THRESH_BINARY)[1]\n",
    "            #im = compare(buoy, im)\n",
    "            write(im, j)\n",
    "            \n",
    "        reset()\n",
    "        iteration = iteration + 1\n",
    "        return True\n",
    "    return False"
   ]
  },
  {
   "cell_type": "code",
   "execution_count": 6,
   "metadata": {},
   "outputs": [],
   "source": [
    "#Delete all pixels that are outside of a certain red/green range\n",
    "def delete_blue(image):\n",
    "    image = cv2.cvtColor(image, cv2.COLOR_BGR2HSV)\n",
    "    image[np.logical_not(np.logical_or(np.logical_and(image[:,:,0] > 70, image[:,:,0] < 90),np.logical_or(image[:,:,0] >= 170, image[:,:,0] < 10)))] = [0,0,0]\n",
    "    return(image)"
   ]
  },
  {
   "cell_type": "code",
   "execution_count": 7,
   "metadata": {},
   "outputs": [],
   "source": [
    "def delete_darkest(image):\n",
    "    return False"
   ]
  },
  {
   "cell_type": "code",
   "execution_count": 8,
   "metadata": {},
   "outputs": [],
   "source": [
    "#for writing one instance of an image\n",
    "def write(image, index):\n",
    "    cv2.imwrite(out + \"out\" + str(index + iteration * arr_size).zfill(4) + \".jpg\", image)\n",
    "    return True"
   ]
  },
  {
   "cell_type": "code",
   "execution_count": 9,
   "metadata": {},
   "outputs": [],
   "source": [
    "#for writing multiple instances of an image. ex. when separating an image into red and green channels\n",
    "def write_rg(image, index, color_index):\n",
    "    cv2.imwrite(out + \"out\" + str(index + iteration * arr_size).zfill(4) + \"-\" + str(color_index) + \".jpg\", image)\n",
    "    return True"
   ]
  },
  {
   "cell_type": "code",
   "execution_count": 10,
   "metadata": {},
   "outputs": [],
   "source": [
    "#an extension of write_rg for multiple sets of images. ex. recording multiple filters of red and green channels of an image\n",
    "def write_rg_mult(image, index, color_index, mult):\n",
    "    cv2.imwrite(out + \"out\" + str(index + iteration * arr_size).zfill(4) + \"-\" + str(color_index) + \"-\" + str(mult) + \".jpg\", image)\n",
    "    return True"
   ]
  },
  {
   "cell_type": "code",
   "execution_count": 11,
   "metadata": {},
   "outputs": [],
   "source": [
    "#Use SIFT to detect a given feature in an image\n",
    "def compare(image1,image2):\n",
    "    sift = cv2.xfeatures2d.SIFT_create()\n",
    "        \n",
    "    kp1, des1 = sift.detectAndCompute(image1,None)\n",
    "    kp2, des2 = sift.detectAndCompute(image2,None)\n",
    "    \n",
    "    FLANN_INDEX_KDTREE = 1\n",
    "    index_params = dict(algorithm = FLANN_INDEX_KDTREE, trees = 5)\n",
    "    search_params = dict(checks=50)   # or pass empty dictionary)\n",
    "    \n",
    "    flann = cv2.FlannBasedMatcher(index_params,search_params)\n",
    "    matches = flann.knnMatch(des1,des2,k=2)\n",
    "    \n",
    "    # Need to draw only good matches, so create a mask\n",
    "    matchesMask = [[0,0] for i in range(len(matches))]\n",
    "    \n",
    "    # ratio test as per Lowe's paper\n",
    "    for i,(m,n) in enumerate(matches):\n",
    "        if m.distance < 0.7*n.distance:\n",
    "            matchesMask[i]=[1,0]\n",
    "    \n",
    "    draw_params = dict(matchColor = (0,255,0),\n",
    "                    singlePointColor = (255,0,0),\n",
    "                    matchesMask = matchesMask,\n",
    "                    flags = cv2.DrawMatchesFlags_DEFAULT)\n",
    "    \n",
    "    img3 = cv2.drawMatchesKnn(image1,kp1,image2,kp2,matches,None,**draw_params)\n",
    "    return img3\n"
   ]
  },
  {
   "cell_type": "code",
   "execution_count": 12,
   "metadata": {},
   "outputs": [],
   "source": [
    "#Delete the contents of the image arrays, used for preserving memory by doing operations on images in batches\n",
    "def reset():\n",
    "    del img[:]\n",
    "    del original[:]\n",
    "    return True"
   ]
  },
  {
   "cell_type": "code",
   "execution_count": 13,
   "metadata": {
    "scrolled": true
   },
   "outputs": [],
   "source": [
    "if __name__ == \"__main__\":\n",
    "    iterator()"
   ]
  },
  {
   "cell_type": "code",
   "execution_count": null,
   "metadata": {},
   "outputs": [],
   "source": []
  }
 ],
 "metadata": {
  "kernelspec": {
   "display_name": "Python 3",
   "language": "python",
   "name": "python3"
  },
  "language_info": {
   "codemirror_mode": {
    "name": "ipython",
    "version": 3
   },
   "file_extension": ".py",
   "mimetype": "text/x-python",
   "name": "python",
   "nbconvert_exporter": "python",
   "pygments_lexer": "ipython3",
   "version": "3.6.8"
  }
 },
 "nbformat": 4,
 "nbformat_minor": 2
}
