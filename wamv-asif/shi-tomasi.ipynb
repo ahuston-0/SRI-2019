{
 "cells": [
  {
   "cell_type": "code",
   "execution_count": 4,
   "metadata": {},
   "outputs": [],
   "source": [
    "import cv2 as cv\n",
    "import numpy as np\n",
    "from matplotlib import pyplot as plt"
   ]
  },
  {
   "cell_type": "code",
   "execution_count": 5,
   "metadata": {},
   "outputs": [],
   "source": [
    "def ip(image):\n",
    "    gray = cv.cvtColor(image, cv.COLOR_BGR2GRAY)\n",
    "    corners = cv.goodFeaturesToTrack(gray,25,0.01,10)\n",
    "    corners = np.int0(corners)\n",
    "    \n",
    "    for i in corners:\n",
    "        x,y = i.ravel()\n",
    "        cv.circle(image,(x,y),3,255,-1)\n",
    "        \n",
    "    return image"
   ]
  },
  {
   "cell_type": "code",
   "execution_count": 6,
   "metadata": {},
   "outputs": [],
   "source": [
    "for x in range(0, 595):\n",
    "    if x >= 0 and x < 10:\n",
    "        img = cv.imread('input_images/left000' + str(x) + '.jpg',1)\n",
    "        result = ip(img)\n",
    "        cv.imwrite('Shi-tomasi/left000' + str(x) + '.jpg', result)\n",
    "    elif x > 9 and x < 100:\n",
    "        img = cv.imread('input_images/left00' + str(x) + '.jpg' ,1)\n",
    "        result = ip(img)\n",
    "        cv.imwrite('Shi-tomasi/left00' + str(x) + '.jpg', result)\n",
    "    else:\n",
    "        img = cv.imread('input_images/left0' + str(x) + '.jpg' ,1)\n",
    "        result = ip(img)\n",
    "        cv.imwrite('Shi-tomasi/left0' + str(x) + '.jpg', result)"
   ]
  }
 ],
 "metadata": {
  "kernelspec": {
   "display_name": "Python 3",
   "language": "python",
   "name": "python3"
  },
  "language_info": {
   "codemirror_mode": {
    "name": "ipython",
    "version": 3
   },
   "file_extension": ".py",
   "mimetype": "text/x-python",
   "name": "python",
   "nbconvert_exporter": "python",
   "pygments_lexer": "ipython3",
   "version": "3.5.2"
  }
 },
 "nbformat": 4,
 "nbformat_minor": 2
}
