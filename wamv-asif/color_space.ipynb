{
 "cells": [
  {
   "cell_type": "code",
   "execution_count": 46,
   "metadata": {},
   "outputs": [],
   "source": [
    "import cv2 as cv\n",
    "import math\n",
    "import numpy as np\n",
    "from matplotlib import pyplot as plt"
   ]
  },
  {
   "cell_type": "code",
   "execution_count": 47,
   "metadata": {},
   "outputs": [],
   "source": [
    "def ip(image):\n",
    "    # define the list of boundaries\n",
    "    boundaries = [\n",
    "        ([30, 30, 100], [100, 100, 180]),\n",
    "        #[70, 100, 50], [130, 180, 90]),\n",
    "        ]\n",
    "    # loop over the boundaries\n",
    "    for (lower, upper) in boundaries:\n",
    "        # create NumPy arrays from the boundaries\n",
    "        lower = np.array(lower, dtype = \"uint8\")\n",
    "        upper = np.array(upper, dtype = \"uint8\")\n",
    "\n",
    "        # find the colors within the specified boundaries and apply\n",
    "        # the mask\n",
    "        mask = cv.inRange(image, lower, upper)\n",
    "        output = cv.bitwise_and(image, image, mask = mask)\n",
    "    \n",
    "    return output    "
   ]
  },
  {
   "cell_type": "code",
   "execution_count": 48,
   "metadata": {},
   "outputs": [],
   "source": [
    "def ip2(image):\n",
    "    # define the list of boundaries\n",
    "    boundaries = [\n",
    "        ([70, 100, 50], [130, 180, 90]),\n",
    "        ]\n",
    "    # loop over the boundaries\n",
    "    for (lower, upper) in boundaries:\n",
    "        # create NumPy arrays from the boundaries\n",
    "        lower = np.array(lower, dtype = \"uint8\")\n",
    "        upper = np.array(upper, dtype = \"uint8\")\n",
    "\n",
    "        # find the colors within the specified boundaries and apply\n",
    "        # the mask\n",
    "        mask = cv.inRange(image, lower, upper)\n",
    "        output = cv.bitwise_and(image, image, mask = mask)\n",
    "    \n",
    "    return output  "
   ]
  },
  {
   "cell_type": "code",
   "execution_count": 49,
   "metadata": {},
   "outputs": [],
   "source": [
    "def combine(image1,image2):\n",
    "    return cv.addWeighted(image1,1,image2,1,0)"
   ]
  },
  {
   "cell_type": "code",
   "execution_count": 50,
   "metadata": {},
   "outputs": [],
   "source": [
    "for x in range(0, 595):\n",
    "    if x >= 0 and x < 10:\n",
    "        img = cv.imread('input_images/left000' + str(x) + '.jpg',1)\n",
    "        result1 = ip(img)\n",
    "        cv.imwrite('output_images/composite/bdr/bdr000' + str(x) + '.jpg', result1)\n",
    "        result2 = ip2(img)\n",
    "        cv.imwrite('output_images/composite/bdg/bdg000' + str(x) + '.jpg', result2)\n",
    "        final = combine(result1,result2)\n",
    "        cv.imwrite('output_images/composite/buoy/buoy000' + str(x) + '.jpg', final)\n",
    "    elif x > 9 and x < 100:\n",
    "        img = cv.imread('input_images/left00' + str(x) + '.jpg' ,1)\n",
    "        result1 = ip(img)\n",
    "        cv.imwrite('output_images/composite/bdr/bdr00' + str(x) + '.jpg', result1)\n",
    "        result2 = ip2(img)\n",
    "        cv.imwrite('output_images/composite/bdg/bdg00' + str(x) + '.jpg', result2)\n",
    "        final = combine(result1,result2)\n",
    "        cv.imwrite('output_images/composite/buoy/buoy00' + str(x) + '.jpg', final)\n",
    "    else:\n",
    "        img = cv.imread('input_images/left0' + str(x) + '.jpg' ,1)\n",
    "        result1 = ip(img)\n",
    "        cv.imwrite('output_images/composite/bdr/bdr0' + str(x) + '.jpg', result1)\n",
    "        result2 = ip2(img)\n",
    "        cv.imwrite('output_images/composite/bdg/bdg0' + str(x) + '.jpg', result2)\n",
    "        final = combine(result1,result2)\n",
    "        cv.imwrite('output_images/composite/buoy/buoy0' + str(x) + '.jpg', final)"
   ]
  },
  {
   "cell_type": "code",
   "execution_count": null,
   "metadata": {},
   "outputs": [],
   "source": []
  }
 ],
 "metadata": {
  "kernelspec": {
   "display_name": "Python 3",
   "language": "python",
   "name": "python3"
  },
  "language_info": {
   "codemirror_mode": {
    "name": "ipython",
    "version": 3
   },
   "file_extension": ".py",
   "mimetype": "text/x-python",
   "name": "python",
   "nbconvert_exporter": "python",
   "pygments_lexer": "ipython3",
   "version": "3.5.2"
  }
 },
 "nbformat": 4,
 "nbformat_minor": 2
}
