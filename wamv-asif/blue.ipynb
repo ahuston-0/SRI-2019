{
 "cells": [
  {
   "cell_type": "code",
   "execution_count": 12,
   "metadata": {},
   "outputs": [],
   "source": [
    "import cv2 as cv\n",
    "import numpy as np\n",
    "from matplotlib import pyplot as plt"
   ]
  },
  {
   "cell_type": "code",
   "execution_count": 13,
   "metadata": {},
   "outputs": [],
   "source": [
    "def ip(image):\n",
    "    blank = np.zeros_like(image)\n",
    "    image[image[:,:,0]]>120\n",
    "    \n",
    "    blank[:,:,1] = image[:,:,1]\n",
    "    blank[:,:,2] = image[:,:,2]\n",
    "    image = blank\n",
    "    return image"
   ]
  },
  {
   "cell_type": "code",
   "execution_count": 14,
   "metadata": {},
   "outputs": [],
   "source": [
    "for x in range(0, 595):\n",
    "    if x >= 0 and x < 10:\n",
    "        img = cv.imread('input_images/left000' + str(x) + '.jpg',1)\n",
    "        result = ip(img)\n",
    "        cv.imwrite('output_images/blue/blue000' + str(x) + '.jpg', result)\n",
    "    elif x > 9 and x < 100:\n",
    "        img = cv.imread('input_images/left00' + str(x) + '.jpg' ,1)\n",
    "        result = ip(img)\n",
    "        cv.imwrite('output_images/blue/blue00' + str(x) + '.jpg', result)\n",
    "    else:\n",
    "        img = cv.imread('input_images/left0' + str(x) + '.jpg' ,1)\n",
    "        result = ip(img)\n",
    "        cv.imwrite('output_images/blue/blue0' + str(x) + '.jpg', result)"
   ]
  },
  {
   "cell_type": "code",
   "execution_count": null,
   "metadata": {},
   "outputs": [],
   "source": []
  }
 ],
 "metadata": {
  "kernelspec": {
   "display_name": "Python 3",
   "language": "python",
   "name": "python3"
  },
  "language_info": {
   "codemirror_mode": {
    "name": "ipython",
    "version": 3
   },
   "file_extension": ".py",
   "mimetype": "text/x-python",
   "name": "python",
   "nbconvert_exporter": "python",
   "pygments_lexer": "ipython3",
   "version": "3.5.2"
  }
 },
 "nbformat": 4,
 "nbformat_minor": 2
}
