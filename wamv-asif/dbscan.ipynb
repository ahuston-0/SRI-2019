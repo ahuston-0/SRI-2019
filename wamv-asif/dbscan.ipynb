{
 "cells": [
  {
   "cell_type": "code",
   "execution_count": 120,
   "metadata": {},
   "outputs": [],
   "source": [
    "import cv2 as cv\n",
    "import numpy as np\n",
    "from sklearn.cluster import DBSCAN\n",
    "from sklearn import metrics\n",
    "from matplotlib import pyplot as plt\n",
    "import time\n",
    "import sys"
   ]
  },
  {
   "cell_type": "code",
   "execution_count": 121,
   "metadata": {},
   "outputs": [],
   "source": [
    "np.set_printoptions(threshold=sys.maxsize)"
   ]
  },
  {
   "cell_type": "code",
   "execution_count": 122,
   "metadata": {},
   "outputs": [],
   "source": [
    "def rectangle(mat,color,image):\n",
    "    rect = cv.minAreaRect(mat)\n",
    "    height = rect[1][1]\n",
    "    width = rect[1][0]\n",
    "    x = rect[0][0] - width/2\n",
    "    x = np.int0(x)\n",
    "    y = rect[0][1] - height/1.7\n",
    "    y = np.int0(y)\n",
    "    font = cv.FONT_HERSHEY_SIMPLEX\n",
    "    print(color)\n",
    "    if(color == 'none'):\n",
    "        cv.putText(image,'noise',(x,y), font, 0.5,(255,255,255),2,cv.LINE_AA)\n",
    "    elif((1.5*width < height and 3.5*width > height) or (1.5*height < width and 3.5*height > width)):\n",
    "        cv.putText(image,color+' buoy',(x,y), font, 0.5,(255,255,255),2,cv.LINE_AA)\n",
    "    box = cv.boxPoints(rect)\n",
    "    box = np.int0(box)\n",
    "    cv.drawContours(image,[box],0,(255,0,255),2)\n",
    "    return image"
   ]
  },
  {
   "cell_type": "code",
   "execution_count": null,
   "metadata": {},
   "outputs": [
    {
     "name": "stdout",
     "output_type": "stream",
     "text": [
      "133.52\n",
      "81.94666666666667\n",
      "80.99333333333334\n",
      "red\n",
      "87.38095238095238\n",
      "117.84126984126983\n",
      "107.19047619047619\n",
      "green\n",
      "136.47058823529412\n",
      "136.47058823529412\n",
      "136.47058823529412\n",
      "none\n",
      "50.447077409162716\n",
      "82.05529225908373\n",
      "69.15007898894154\n",
      "green\n",
      "134.09296594982078\n",
      "58.23969534050179\n",
      "53.69578853046595\n",
      "red\n"
     ]
    }
   ],
   "source": [
    "image = cv.imread('output_images/hsv (preprocessing)/hsv0290.jpg')\n",
    "img = image.copy()\n",
    "img = cv.cvtColor(img, cv.COLOR_BGR2GRAY)\n",
    "ret,thresh1 = cv.threshold(img,40,255,cv.THRESH_BINARY)\n",
    "\n",
    "nonzero = np.nonzero(thresh1)\n",
    "\n",
    "yp = np.array(nonzero[0])\n",
    "xp = np.array(nonzero[1])\n",
    "\n",
    "\n",
    "X=np.column_stack((xp,yp))\n",
    "if (len(X) > 0):\n",
    "    db = DBSCAN(eps=3, min_samples=15).fit(X)\n",
    "    core_samples_mask = np.zeros_like(db.labels_, dtype=bool)\n",
    "    core_samples_mask[db.core_sample_indices_] = True\n",
    "    labels = db.labels_\n",
    "    # Number of clusters in labels, ignoring noise if present.\n",
    "    n_clusters_ = len(set(labels)) - (1 if -1 in labels else 0)\n",
    "    n_noise_ = list(labels).count(-1)\n",
    "\n",
    "\n",
    "    array = zip(xp,yp,labels)\n",
    "    sort = sorted(list(array), key=lambda x: x[2])\n",
    "    x = 0\n",
    "\n",
    "    while (len(sort) > 0 and sort[x][2] == -1):\n",
    "        del sort[x]\n",
    "\n",
    "    if (len(sort) > 0):\n",
    "        unique_labels = sorted(set(labels))\n",
    "        if (unique_labels[0] == -1):\n",
    "            unique_labels.remove(-1)\n",
    "        points = sort.copy()\n",
    "        points = np.delete(points,2,1)\n",
    "\n",
    "        i = 0\n",
    "        x = 0\n",
    "        l = []\n",
    "\n",
    "        while (x < len(unique_labels)):\n",
    "            if (i < len(sort) and sort[i][2] == x):\n",
    "                l.append(points[i])\n",
    "                i+=1\n",
    "            else:\n",
    "                x+=1\n",
    "                clr = color(np.array(l),image)\n",
    "                tb = rectangle(np.array(l),clr,image)\n",
    "                l = []\n",
    "        image = tb   \n",
    "cv.imshow('image',image)\n",
    "cv.waitKey(0)\n",
    "cv.destroyAllWindows()"
   ]
  },
  {
   "cell_type": "code",
   "execution_count": 123,
   "metadata": {},
   "outputs": [],
   "source": [
    "def color(mat,image):\n",
    "    sumred = 0\n",
    "    sumgrn = 0\n",
    "    sumblu = 0\n",
    "    for x in range(len(mat)):\n",
    "        sumred += image[mat[x][1]][mat[x][0]][2]\n",
    "        sumgrn += image[mat[x][1]][mat[x][0]][1]\n",
    "        sumblu += image[mat[x][1]][mat[x][0]][0]\n",
    "    print(sumred/len(mat))\n",
    "    print(sumgrn/len(mat))\n",
    "    print(sumblu/len(mat))\n",
    "    if ((sumred/len(mat)) > 100 and (sumred/len(mat)) < 180 and (sumgrn/len(mat)) > 30 and (sumgrn/len(mat)) < 115  and (sumblu/len(mat)) > 30 and (sumblu/len(mat)) < 110):\n",
    "        return 'red'\n",
    "    if ((sumred/len(mat)) > 50 and (sumred/len(mat)) < 100 and (sumgrn/len(mat)) > 80 and (sumgrn/len(mat)) < 180  and (sumblu/len(mat)) > 50 and (sumblu/len(mat)) < 130):\n",
    "        return 'green'\n",
    "    else:\n",
    "        return 'none'"
   ]
  },
  {
   "cell_type": "code",
   "execution_count": null,
   "metadata": {},
   "outputs": [],
   "source": []
  }
 ],
 "metadata": {
  "kernelspec": {
   "display_name": "Python 3",
   "language": "python",
   "name": "python3"
  },
  "language_info": {
   "codemirror_mode": {
    "name": "ipython",
    "version": 3
   },
   "file_extension": ".py",
   "mimetype": "text/x-python",
   "name": "python",
   "nbconvert_exporter": "python",
   "pygments_lexer": "ipython3",
   "version": "3.5.2"
  }
 },
 "nbformat": 4,
 "nbformat_minor": 2
}
