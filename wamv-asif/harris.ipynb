{
 "cells": [
  {
   "cell_type": "code",
   "execution_count": 20,
   "metadata": {},
   "outputs": [],
   "source": [
    "import cv2 as cv\n",
    "import numpy as np"
   ]
  },
  {
   "cell_type": "code",
   "execution_count": 21,
   "metadata": {},
   "outputs": [],
   "source": [
    "def ip(image):\n",
    "        gray = cv.cvtColor(image,cv.COLOR_BGR2GRAY)\n",
    "        gray = np.float32(gray)\n",
    "        dst = cv.cornerHarris(gray,2,3,0.1)\n",
    "        dst = cv.dilate(dst,None)\n",
    "        image[dst>0.01*dst.max()]=[0,0,255]\n",
    "        return image"
   ]
  },
  {
   "cell_type": "code",
   "execution_count": 22,
   "metadata": {},
   "outputs": [],
   "source": [
    "for x in range(0, 595):\n",
    "    if x >= 0 and x < 10:\n",
    "        img = cv.imread('input_images/left000' + str(x) + '.jpg',1)\n",
    "        result = ip(img)\n",
    "        cv.imwrite('output_images/harris/left000' + str(x) + '.jpg', result)\n",
    "    elif x > 9 and x < 100:\n",
    "        img = cv.imread('input_images/left00' + str(x) + '.jpg' ,1)\n",
    "        result = ip(img)\n",
    "        cv.imwrite('output_images/harris/left00' + str(x) + '.jpg', result)\n",
    "    else:\n",
    "        img = cv.imread('input_images/left0' + str(x) + '.jpg' ,1)\n",
    "        result = ip(img)\n",
    "        cv.imwrite('output_images/harris/left0' + str(x) + '.jpg', result)"
   ]
  }
 ],
 "metadata": {
  "kernelspec": {
   "display_name": "Python 3",
   "language": "python",
   "name": "python3"
  },
  "language_info": {
   "codemirror_mode": {
    "name": "ipython",
    "version": 3
   },
   "file_extension": ".py",
   "mimetype": "text/x-python",
   "name": "python",
   "nbconvert_exporter": "python",
   "pygments_lexer": "ipython3",
   "version": "3.5.2"
  }
 },
 "nbformat": 4,
 "nbformat_minor": 2
}
