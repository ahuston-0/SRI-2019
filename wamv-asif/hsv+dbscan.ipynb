{
 "cells": [
  {
   "cell_type": "code",
   "execution_count": 119,
   "metadata": {},
   "outputs": [],
   "source": [
    "import numpy as np\n",
    "from sklearn.cluster import DBSCAN\n",
    "from sklearn import metrics\n",
    "from matplotlib import pyplot as plt\n",
    "import time\n",
    "import sys\n",
    "import cv2 as cv\n",
    "import multiprocessing\n",
    "import glob"
   ]
  },
  {
   "cell_type": "code",
   "execution_count": 120,
   "metadata": {},
   "outputs": [],
   "source": [
    "#img = cv.imread('input_images/left0307.jpg',1)\n",
    "#transform(img)\n",
    "def color(mat,image):\n",
    "    sumred = 0\n",
    "    sumgrn = 0\n",
    "    sumblu = 0\n",
    "    for x in range(len(mat)):\n",
    "        sumred += image [mat[x][1]] [mat[x][0]] [2]\n",
    "        sumgrn += image [mat[x][1]] [mat[x][0]] [1]\n",
    "        sumblu += image [mat[x][1]] [mat[x][0]] [0]\n",
    "    #print(sumred/len(mat))\n",
    "    #print(sumgrn/len(mat))\n",
    "    #print(sumblu/len(mat))\n",
    "    if ((sumred/len(mat)) > 100 and (sumred/len(mat)) < 180 and (sumgrn/len(mat)) > 30 and (sumgrn/len(mat)) < 115  and (sumblu/len(mat)) > 30 and (sumblu/len(mat)) < 110):\n",
    "        #print('red')\n",
    "        return 'red'\n",
    "    if ((sumred/len(mat)) > 45 and (sumred/len(mat)) < 100 and (sumgrn/len(mat)) > 75 and (sumgrn/len(mat)) < 180  and (sumblu/len(mat)) > 50 and (sumblu/len(mat)) < 130):\n",
    "        #print('green')\n",
    "        return 'green'\n",
    "    else:\n",
    "        #print('none')\n",
    "        return 'none'\n",
    "    \n",
    "def rectangle(mat,color,image,original):\n",
    "    rect = cv.minAreaRect(mat)\n",
    "    height = rect[1][1]\n",
    "    width = rect[1][0]\n",
    "    x = rect[0][0] - width/2\n",
    "    x = np.int0(x)\n",
    "    y = rect[0][1] - height/1.7\n",
    "    y = np.int0(y)\n",
    "    font = cv.FONT_HERSHEY_SIMPLEX\n",
    "    if(color == 'none'):\n",
    "        cv.putText(original,'noise',(x,y), font, 0.5,(255,255,255),2,cv.LINE_AA)\n",
    "    elif((1.5*width < height and 3.5*width > height) or (1.5*height < width and 3.5*height > width)):\n",
    "        cv.putText(original,color+' buoy',(x,y), font, 0.5,(255,255,255),2,cv.LINE_AA)\n",
    "    box = cv.boxPoints(rect)\n",
    "    box = np.int0(box)\n",
    "    cv.drawContours(original,[box],0,(255,0,255),2)\n",
    "    return original\n",
    "\n",
    "def pp(image):\n",
    "    image = np.array(image[0:800][0:515])\n",
    "    image = cv.cvtColor(image, cv.COLOR_BGR2HSV)\n",
    "    image[np.logical_not(np.logical_or(np.logical_and(image[:,:,0] > 70, image[:,:,0] < 90),np.logical_or(image[:,:,0] >= 170, image[:,:,0] < 10)))] = [0,0,0]\n",
    "    image = cv.cvtColor(image,cv.COLOR_HSV2BGR)\n",
    "    return(image)\n",
    "\n",
    "def transform(img):\n",
    "    image = pp(img)\n",
    "    img2 = dbscan(image, img)\n",
    "    #img3 = plot(img2)\n",
    "    return img2\n",
    "\n",
    "def dbscan(image, original): \n",
    "    img = image.copy()\n",
    "    img = cv.cvtColor(img, cv.COLOR_BGR2GRAY)\n",
    "    ret,thresh1 = cv.threshold(img,40,255,cv.THRESH_BINARY)\n",
    "\n",
    "    nonzero = np.nonzero(thresh1)\n",
    "\n",
    "    yp = np.array(nonzero[0])\n",
    "    xp = np.array(nonzero[1])\n",
    "\n",
    "\n",
    "    X=np.column_stack((xp,yp))\n",
    "    if (len(X) > 0):\n",
    "        db = DBSCAN(eps=3, min_samples=20).fit(X)\n",
    "        core_samples_mask = np.zeros_like(db.labels_, dtype=bool)\n",
    "        core_samples_mask[db.core_sample_indices_] = True\n",
    "        labels = db.labels_\n",
    "        # Number of clusters in labels, ignoring noise if present.\n",
    "        n_clusters_ = len(set(labels)) - (1 if -1 in labels else 0)\n",
    "        n_noise_ = list(labels).count(-1)\n",
    "\n",
    "\n",
    "        array = zip(xp,yp,labels)\n",
    "        sort = sorted(list(array), key=lambda x: x[2])\n",
    "        x = 0\n",
    "\n",
    "        while (len(sort) > 0 and sort[x][2] == -1):\n",
    "            del sort[x]\n",
    "\n",
    "        if (len(sort) > 0):\n",
    "            unique_labels = sorted(set(labels))\n",
    "            if (unique_labels[0] == -1):\n",
    "                unique_labels.remove(-1)\n",
    "            points = sort.copy()\n",
    "            points = np.delete(points,2,1)\n",
    "\n",
    "            i = 0\n",
    "            x = 0\n",
    "            l = []\n",
    "\n",
    "            while (x < len(unique_labels)):\n",
    "                if (i < len(sort) and sort[i][2] == x):\n",
    "                    l.append(points[i])\n",
    "                    i+=1\n",
    "                else:\n",
    "                    x+=1\n",
    "                    clr = color(np.array(l),image)\n",
    "                    tb = rectangle(np.array(l),clr,image,original)\n",
    "                    l = []\n",
    "            original = tb   \n",
    "    return original"
   ]
  },
  {
   "cell_type": "code",
   "execution_count": 121,
   "metadata": {},
   "outputs": [],
   "source": [
    "def read(x):\n",
    "    img2 = cv.imread('images/left' + str(x).zfill(4) + '.jpg',1)\n",
    "    result1 = transform(img2)\n",
    "    cv.imwrite('output_images/test1/test' + str(x).zfill(4) + '.jpg', result1)"
   ]
  },
  {
   "cell_type": "code",
   "execution_count": 122,
   "metadata": {},
   "outputs": [],
   "source": [
    "read(x)"
   ]
  },
  {
   "cell_type": "code",
   "execution_count": 123,
   "metadata": {},
   "outputs": [
    {
     "name": "stdout",
     "output_type": "stream",
     "text": [
      "That took {} seconds 100.02417612075806\n"
     ]
    }
   ],
   "source": [
    "\n",
    "if __name__=='__main__':\n",
    "    starttime = time.time()\n",
    "    pool = multiprocessing.Pool(multiprocessing.cpu_count())\n",
    "    \n",
    "    \n",
    "    pool.map(read,range(2927),30)\n",
    "    pool.close()\n",
    "    pool.join()\n",
    "    \n",
    "    print('That took {} seconds',format(time.time() - starttime))\n"
   ]
  },
  {
   "cell_type": "code",
   "execution_count": 124,
   "metadata": {},
   "outputs": [],
   "source": [
    "img_arr = []\n",
    "starttime = time.time()\n",
    "for x in range(0,2927):\n",
    "    img = cv.imread('output_images/test1/test' + str(x).zfill(4) + '.jpg',1)\n",
    "    height, width, layers = img.shape\n",
    "    size = (width,height)\n",
    "    img_arr.append(img)\n",
    "out = cv.VideoWriter('output_images/alice_images.avi',cv.VideoWriter_fourcc(*'DIVX'), 20, size)\n",
    "for i in range(len(img_arr)):\n",
    "    out.write(img_arr[i])\n",
    "out.release()"
   ]
  },
  {
   "cell_type": "code",
   "execution_count": null,
   "metadata": {},
   "outputs": [],
   "source": []
  }
 ],
 "metadata": {
  "kernelspec": {
   "display_name": "Python 3",
   "language": "python",
   "name": "python3"
  },
  "language_info": {
   "codemirror_mode": {
    "name": "ipython",
    "version": 3
   },
   "file_extension": ".py",
   "mimetype": "text/x-python",
   "name": "python",
   "nbconvert_exporter": "python",
   "pygments_lexer": "ipython3",
   "version": "3.6.8"
  }
 },
 "nbformat": 4,
 "nbformat_minor": 2
}
