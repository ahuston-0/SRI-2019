{
 "cells": [
  {
   "cell_type": "code",
   "execution_count": 4,
   "metadata": {},
   "outputs": [],
   "source": [
    "import cv2 as cv\n",
    "import numpy as np\n",
    "from matplotlib import pyplot as plt"
   ]
  },
  {
   "cell_type": "code",
   "execution_count": 5,
   "metadata": {},
   "outputs": [],
   "source": [
    "def ip(image1,image2):\n",
    "    sift = cv.xfeatures2d.SIFT_create()\n",
    "        \n",
    "    kp1, des1 = sift.detectAndCompute(img1,None)\n",
    "    kp2, des2 = sift.detectAndCompute(img2,None)\n",
    "    \n",
    "    FLANN_INDEX_KDTREE = 1\n",
    "    index_params = dict(algorithm = FLANN_INDEX_KDTREE, trees = 5)\n",
    "    search_params = dict(checks=50)   # or pass empty dictionary)\n",
    "    \n",
    "    flann = cv.FlannBasedMatcher(index_params,search_params)\n",
    "    matches = flann.knnMatch(des1,des2,k=2)\n",
    "    \n",
    "    # Need to draw only good matches, so create a mask\n",
    "    matchesMask = [[0,0] for i in range(len(matches))]\n",
    "    \n",
    "    # ratio test as per Lowe's paper\n",
    "    for i,(m,n) in enumerate(matches):\n",
    "        if m.distance < 0.7*n.distance:\n",
    "            matchesMask[i]=[1,0]\n",
    "    \n",
    "    draw_params = dict(matchColor = (0,255,0),\n",
    "                    singlePointColor = (255,0,0),\n",
    "                    matchesMask = matchesMask,\n",
    "                    flags = cv.DrawMatchesFlags_DEFAULT)\n",
    "    \n",
    "    img3 = cv.drawMatchesKnn(image1,kp1,image2,kp2,matches,None,**draw_params)\n",
    "    return img3"
   ]
  },
  {
   "cell_type": "code",
   "execution_count": 6,
   "metadata": {},
   "outputs": [],
   "source": [
    "for x in range(0, 595):\n",
    "    if x >= 0 and x < 10:\n",
    "        img1 = cv.imread('input_images/redbuoy.jpg',1)\n",
    "        img2 = cv.imread('output_images/composite/buoy000' + str(x) + '.jpg',1)\n",
    "        result = ip(img1,img2)\n",
    "        cv.imwrite('output_images/bfm/left000' + str(x) + '.jpg', result)\n",
    "    elif x > 9 and x < 100:\n",
    "        img1 = cv.imread('input_images/redbuoy.jpg',1)\n",
    "        img2 = cv.imread('output_images/composite/buoy00' + str(x) + '.jpg' ,1)\n",
    "        result = ip(img1,img2)\n",
    "        cv.imwrite('output_images/bfm/left00' + str(x) + '.jpg', result)\n",
    "    else:\n",
    "        img1 = cv.imread('input_images/redbuoy.jpg',1)\n",
    "        img2 = cv.imread('output_images/composite/buoy0' + str(x) + '.jpg' ,1)\n",
    "        result = ip(img1,img2)\n",
    "        cv.imwrite('output_images/bfm/left0' + str(x) + '.jpg', result)"
   ]
  },
  {
   "cell_type": "code",
   "execution_count": null,
   "metadata": {},
   "outputs": [],
   "source": []
  }
 ],
 "metadata": {
  "kernelspec": {
   "display_name": "Python 3",
   "language": "python",
   "name": "python3"
  },
  "language_info": {
   "codemirror_mode": {
    "name": "ipython",
    "version": 3
   },
   "file_extension": ".py",
   "mimetype": "text/x-python",
   "name": "python",
   "nbconvert_exporter": "python",
   "pygments_lexer": "ipython3",
   "version": "3.5.2"
  }
 },
 "nbformat": 4,
 "nbformat_minor": 2
}
