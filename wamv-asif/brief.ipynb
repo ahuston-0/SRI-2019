{
 "cells": [
  {
   "cell_type": "code",
   "execution_count": 15,
   "metadata": {},
   "outputs": [],
   "source": [
    "import cv2 as cv\n",
    "import numpy as np\n",
    "from matplotlib import pyplot as plt"
   ]
  },
  {
   "cell_type": "code",
   "execution_count": 16,
   "metadata": {},
   "outputs": [],
   "source": [
    "def ip(image):\n",
    "    star = cv.xfeatures2d.StarDetector_create()\n",
    "    brief = cv.xfeatures2d.BriefDescriptorExtractor_create()\n",
    "    kp = star.detect(image,None)\n",
    "    kp, des = brief.compute(img,kp)\n",
    "    img2 = image.copy()\n",
    "    for marker in kp:\n",
    "        img2 = cv.drawMarker(img2, tuple(int(i) for i in marker.pt), color=(0, 255, 0))  \n",
    "    return img2"
   ]
  },
  {
   "cell_type": "code",
   "execution_count": 17,
   "metadata": {},
   "outputs": [],
   "source": [
    "for x in range(0, 595):\n",
    "    if x >= 0 and x < 10:\n",
    "        img = cv.imread('input_images/left000' + str(x) + '.jpg',1)\n",
    "        result = ip(img)\n",
    "        cv.imwrite('brief/left000' + str(x) + '.jpg', result)\n",
    "    elif x > 9 and x < 100:\n",
    "        img = cv.imread('input_images/left00' + str(x) + '.jpg' ,1)\n",
    "        result = ip(img)\n",
    "        cv.imwrite('brief/left00' + str(x) + '.jpg', result)\n",
    "    else:\n",
    "        img = cv.imread('input_images/left0' + str(x) + '.jpg' ,1)\n",
    "        result = ip(img)\n",
    "        cv.imwrite('brief/left0' + str(x) + '.jpg', result)"
   ]
  }
 ],
 "metadata": {
  "kernelspec": {
   "display_name": "Python 3",
   "language": "python",
   "name": "python3"
  },
  "language_info": {
   "codemirror_mode": {
    "name": "ipython",
    "version": 3
   },
   "file_extension": ".py",
   "mimetype": "text/x-python",
   "name": "python",
   "nbconvert_exporter": "python",
   "pygments_lexer": "ipython3",
   "version": "3.5.2"
  }
 },
 "nbformat": 4,
 "nbformat_minor": 2
}
